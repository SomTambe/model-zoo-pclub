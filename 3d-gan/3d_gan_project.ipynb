{
  "nbformat": 4,
  "nbformat_minor": 0,
  "metadata": {
    "colab": {
      "name": "3d-gan-project.ipynb",
      "provenance": [],
      "collapsed_sections": []
    },
    "kernelspec": {
      "name": "python3",
      "display_name": "Python 3"
    },
    "accelerator": "GPU"
  },
  "cells": [
    {
      "cell_type": "code",
      "metadata": {
        "id": "OGG8luT9T7ON",
        "colab_type": "code",
        "colab": {}
      },
      "source": [
        "import torch\n",
        "import torchvision\n",
        "import torch.nn as nn\n",
        "import torch.nn.functional as F\n",
        "import torch.optim as optim\n",
        "import torchvision.transforms as transforms\n",
        "import torchvision.datasets as dsets\n",
        "import torch.utils.data as loader\n",
        "import matplotlib.pyplot as plt\n",
        "import numpy as np\n",
        "from torchsummary import summary"
      ],
      "execution_count": 0,
      "outputs": []
    },
    {
      "cell_type": "code",
      "metadata": {
        "id": "SIiMBb7WUfmO",
        "colab_type": "code",
        "colab": {}
      },
      "source": [
        "device = \"cuda:0\" if torch.cuda.is_available() else \"cpu\""
      ],
      "execution_count": 0,
      "outputs": []
    },
    {
      "cell_type": "code",
      "metadata": {
        "id": "sd1TnKqKVS29",
        "colab_type": "code",
        "colab": {}
      },
      "source": [
        "in_vect_size = 200"
      ],
      "execution_count": 0,
      "outputs": []
    },
    {
      "cell_type": "code",
      "metadata": {
        "id": "beWsBDdbUsR3",
        "colab_type": "code",
        "colab": {
          "base_uri": "https://localhost:8080/",
          "height": 476
        },
        "outputId": "b1fd8339-7115-4579-b451-1fc6ec328512"
      },
      "source": [
        "class generator(nn.Module):\n",
        "    \"\"\"\n",
        "    Generator for 3D-GAN-\n",
        "    The generator consists of five fully convolution layers with numbers of channels\n",
        "    {512, 256, 128, 64, 1}, kernel sizes {4, 4, 4, 4, 4}, and strides {1, 2, 2, 2, 2}. \n",
        "    We add ReLU and batch normalization layers between convolutional layers, and a Sigmoid\n",
        "    layer at the end. The input is a 200-dimensional vector, and the output is a 64 × 64 × 64 \n",
        "    matrix with values in [0, 1].\n",
        "    \"\"\"\n",
        "    def __init__(self):\n",
        "        super().__init__()\n",
        "        self.layer1=nn.Sequential(\n",
        "            nn.ConvTranspose3d(in_channels=200,out_channels=512,kernel_size=3,stride=1),\n",
        "            nn.BatchNorm3d(512),\n",
        "            nn.ReLU(),\n",
        "        )\n",
        "        self.layer2=nn.Sequential(\n",
        "            nn.ConvTranspose3d(in_channels=512,out_channels=256,kernel_size=3,stride=2),\n",
        "            nn.BatchNorm3d(256),\n",
        "            nn.ReLU(),\n",
        "        )\n",
        "        self.layer3=nn.Sequential(\n",
        "            nn.ConvTranspose3d(in_channels=256,out_channels=128,kernel_size=3,stride=2),\n",
        "            nn.BatchNorm3d(128),\n",
        "            nn.ReLU(),\n",
        "        )\n",
        "        self.layer4=nn.Sequential(\n",
        "            nn.ConvTranspose3d(in_channels=128,out_channels=64,kernel_size=3,stride=2),\n",
        "            nn.BatchNorm3d(64),\n",
        "            nn.ReLU(),\n",
        "        )\n",
        "        self.layer5=nn.Sequential(\n",
        "            nn.ConvTranspose3d(in_channels=64,out_channels=1,kernel_size=4,stride=2),\n",
        "            nn.Sigmoid(),\n",
        "        )\n",
        "    \n",
        "    def forward(self,x):\n",
        "        bsize=x.size(0)\n",
        "        x=x.view(bsize,in_vect_size,1,1,1)\n",
        "        x=self.layer1(x)\n",
        "        x=self.layer2(x)\n",
        "        x=self.layer3(x)\n",
        "        x=self.layer4(x)\n",
        "        x=self.layer5(x)\n",
        "        return x\n",
        "G_=generator().to(device)\n",
        "summary(G_,(1,in_vect_size))"
      ],
      "execution_count": 25,
      "outputs": [
        {
          "output_type": "stream",
          "text": [
            "----------------------------------------------------------------\n",
            "        Layer (type)               Output Shape         Param #\n",
            "================================================================\n",
            "   ConvTranspose3d-1         [-1, 512, 3, 3, 3]       2,765,312\n",
            "       BatchNorm3d-2         [-1, 512, 3, 3, 3]           1,024\n",
            "              ReLU-3         [-1, 512, 3, 3, 3]               0\n",
            "   ConvTranspose3d-4         [-1, 256, 7, 7, 7]       3,539,200\n",
            "       BatchNorm3d-5         [-1, 256, 7, 7, 7]             512\n",
            "              ReLU-6         [-1, 256, 7, 7, 7]               0\n",
            "   ConvTranspose3d-7      [-1, 128, 15, 15, 15]         884,864\n",
            "       BatchNorm3d-8      [-1, 128, 15, 15, 15]             256\n",
            "              ReLU-9      [-1, 128, 15, 15, 15]               0\n",
            "  ConvTranspose3d-10       [-1, 64, 31, 31, 31]         221,248\n",
            "      BatchNorm3d-11       [-1, 64, 31, 31, 31]             128\n",
            "             ReLU-12       [-1, 64, 31, 31, 31]               0\n",
            "  ConvTranspose3d-13        [-1, 1, 64, 64, 64]           4,097\n",
            "          Sigmoid-14        [-1, 1, 64, 64, 64]               0\n",
            "================================================================\n",
            "Total params: 7,416,641\n",
            "Trainable params: 7,416,641\n",
            "Non-trainable params: 0\n",
            "----------------------------------------------------------------\n",
            "Input size (MB): 0.00\n",
            "Forward/backward pass size (MB): 59.85\n",
            "Params size (MB): 28.29\n",
            "Estimated Total Size (MB): 88.15\n",
            "----------------------------------------------------------------\n"
          ],
          "name": "stdout"
        }
      ]
    },
    {
      "cell_type": "code",
      "metadata": {
        "id": "VyJd83RJ52k0",
        "colab_type": "code",
        "colab": {
          "base_uri": "https://localhost:8080/",
          "height": 476
        },
        "outputId": "b64e40d5-e02d-445b-9029-ac0fad94db21"
      },
      "source": [
        "class discriminator(nn.Module):\n",
        "    \"\"\"\n",
        "    Discriminator for 3D-GAN-\n",
        "    As a mirrored version of the generator, the discriminator takes as input a \n",
        "    64 × 64 × 64 matrix, and outputs a real number in [0, 1]. The discriminator \n",
        "    consists of 5 volumetric convolution layers, with numbers of channels {64,128,256,512,1}, \n",
        "    kernel sizes {4,4,4,4,4}, and strides {2, 2, 2, 2, 1}. There are leaky ReLU layers of \n",
        "    parameter 0.2 and batch normalization layers in between, and a Sigmoid layer at the end.\n",
        "    \"\"\"\n",
        "    def __init__(self):\n",
        "        super().__init__()\n",
        "        self.layer1=nn.Sequential(\n",
        "            nn.Conv3d(in_channels=1,out_channels=64,kernel_size=4,stride=2),\n",
        "            nn.BatchNorm3d(64),\n",
        "            nn.LeakyReLU(0.2)\n",
        "        )\n",
        "        self.layer2=nn.Sequential(\n",
        "            nn.Conv3d(in_channels=64,out_channels=128,kernel_size=4,stride=2),\n",
        "            nn.BatchNorm3d(128),\n",
        "            nn.LeakyReLU(0.2)\n",
        "        )\n",
        "        self.layer3=nn.Sequential(\n",
        "            nn.Conv3d(in_channels=128,out_channels=256,kernel_size=4,stride=2),\n",
        "            nn.BatchNorm3d(256),\n",
        "            nn.LeakyReLU(0.2)\n",
        "        )\n",
        "        self.layer4=nn.Sequential(\n",
        "            nn.Conv3d(in_channels=256,out_channels=512,kernel_size=4,stride=2),\n",
        "            nn.BatchNorm3d(512),\n",
        "            nn.LeakyReLU(0.2)\n",
        "        )\n",
        "        self.layer5=nn.Sequential(\n",
        "            nn.Conv3d(in_channels=512,out_channels=1,kernel_size=2,stride=1),\n",
        "            nn.Sigmoid()\n",
        "        )\n",
        "\n",
        "    def forward(self,x):\n",
        "        bsize=x.size(0)\n",
        "        x=self.layer1(x)\n",
        "        x=self.layer2(x)\n",
        "        x=self.layer3(x)\n",
        "        x=self.layer4(x)\n",
        "        x=self.layer5(x)\n",
        "        x=x.view(bsize,1)\n",
        "        return x\n",
        "D_=discriminator().to(device)\n",
        "summary(D_,(1,64,64,64))"
      ],
      "execution_count": 33,
      "outputs": [
        {
          "output_type": "stream",
          "text": [
            "----------------------------------------------------------------\n",
            "        Layer (type)               Output Shape         Param #\n",
            "================================================================\n",
            "            Conv3d-1       [-1, 64, 31, 31, 31]           4,160\n",
            "       BatchNorm3d-2       [-1, 64, 31, 31, 31]             128\n",
            "         LeakyReLU-3       [-1, 64, 31, 31, 31]               0\n",
            "            Conv3d-4      [-1, 128, 14, 14, 14]         524,416\n",
            "       BatchNorm3d-5      [-1, 128, 14, 14, 14]             256\n",
            "         LeakyReLU-6      [-1, 128, 14, 14, 14]               0\n",
            "            Conv3d-7         [-1, 256, 6, 6, 6]       2,097,408\n",
            "       BatchNorm3d-8         [-1, 256, 6, 6, 6]             512\n",
            "         LeakyReLU-9         [-1, 256, 6, 6, 6]               0\n",
            "           Conv3d-10         [-1, 512, 2, 2, 2]       8,389,120\n",
            "      BatchNorm3d-11         [-1, 512, 2, 2, 2]           1,024\n",
            "        LeakyReLU-12         [-1, 512, 2, 2, 2]               0\n",
            "           Conv3d-13           [-1, 1, 1, 1, 1]           4,097\n",
            "          Sigmoid-14           [-1, 1, 1, 1, 1]               0\n",
            "================================================================\n",
            "Total params: 11,021,121\n",
            "Trainable params: 11,021,121\n",
            "Non-trainable params: 0\n",
            "----------------------------------------------------------------\n",
            "Input size (MB): 1.00\n",
            "Forward/backward pass size (MB): 53.04\n",
            "Params size (MB): 42.04\n",
            "Estimated Total Size (MB): 96.08\n",
            "----------------------------------------------------------------\n"
          ],
          "name": "stdout"
        }
      ]
    },
    {
      "cell_type": "code",
      "metadata": {
        "id": "DEbXAB7REvxg",
        "colab_type": "code",
        "colab": {}
      },
      "source": [
        ""
      ],
      "execution_count": 0,
      "outputs": []
    }
  ]
}