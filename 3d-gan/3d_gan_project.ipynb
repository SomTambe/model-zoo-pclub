{
  "nbformat": 4,
  "nbformat_minor": 0,
  "metadata": {
    "colab": {
      "name": "3d-gan-project.ipynb",
      "provenance": [],
      "collapsed_sections": []
    },
    "kernelspec": {
      "name": "python3",
      "display_name": "Python 3"
    },
    "accelerator": "GPU",
    "widgets": {
      "application/vnd.jupyter.widget-state+json": {
        "11a85522d8614e5b8f2b571f6e9b159d": {
          "model_module": "@jupyter-widgets/controls",
          "model_name": "HBoxModel",
          "state": {
            "_view_name": "HBoxView",
            "_dom_classes": [],
            "_model_name": "HBoxModel",
            "_view_module": "@jupyter-widgets/controls",
            "_model_module_version": "1.5.0",
            "_view_count": null,
            "_view_module_version": "1.5.0",
            "box_style": "",
            "layout": "IPY_MODEL_29b731840f8b40a4aa99ff3be7da35e2",
            "_model_module": "@jupyter-widgets/controls",
            "children": [
              "IPY_MODEL_1eb5ba7a1d2a466e9c50f8b3e6a7d3eb",
              "IPY_MODEL_b8e3ba66a37746c4a64ab35a1e502758"
            ]
          }
        },
        "29b731840f8b40a4aa99ff3be7da35e2": {
          "model_module": "@jupyter-widgets/base",
          "model_name": "LayoutModel",
          "state": {
            "_view_name": "LayoutView",
            "grid_template_rows": null,
            "right": null,
            "justify_content": null,
            "_view_module": "@jupyter-widgets/base",
            "overflow": null,
            "_model_module_version": "1.2.0",
            "_view_count": null,
            "flex_flow": null,
            "width": null,
            "min_width": null,
            "border": null,
            "align_items": null,
            "bottom": null,
            "_model_module": "@jupyter-widgets/base",
            "top": null,
            "grid_column": null,
            "overflow_y": null,
            "overflow_x": null,
            "grid_auto_flow": null,
            "grid_area": null,
            "grid_template_columns": null,
            "flex": null,
            "_model_name": "LayoutModel",
            "justify_items": null,
            "grid_row": null,
            "max_height": null,
            "align_content": null,
            "visibility": null,
            "align_self": null,
            "height": null,
            "min_height": null,
            "padding": null,
            "grid_auto_rows": null,
            "grid_gap": null,
            "max_width": null,
            "order": null,
            "_view_module_version": "1.2.0",
            "grid_template_areas": null,
            "object_position": null,
            "object_fit": null,
            "grid_auto_columns": null,
            "margin": null,
            "display": null,
            "left": null
          }
        },
        "1eb5ba7a1d2a466e9c50f8b3e6a7d3eb": {
          "model_module": "@jupyter-widgets/controls",
          "model_name": "FloatProgressModel",
          "state": {
            "_view_name": "ProgressView",
            "style": "IPY_MODEL_b6bd34fa37e248cc9df5c60178e56944",
            "_dom_classes": [],
            "description": "100%",
            "_model_name": "FloatProgressModel",
            "bar_style": "success",
            "max": 32,
            "_view_module": "@jupyter-widgets/controls",
            "_model_module_version": "1.5.0",
            "value": 32,
            "_view_count": null,
            "_view_module_version": "1.5.0",
            "orientation": "horizontal",
            "min": 0,
            "description_tooltip": null,
            "_model_module": "@jupyter-widgets/controls",
            "layout": "IPY_MODEL_f385af9940e74b5bae769180aee0e90c"
          }
        },
        "b8e3ba66a37746c4a64ab35a1e502758": {
          "model_module": "@jupyter-widgets/controls",
          "model_name": "HTMLModel",
          "state": {
            "_view_name": "HTMLView",
            "style": "IPY_MODEL_83449706998a486d8cccb7a726c85ba7",
            "_dom_classes": [],
            "description": "",
            "_model_name": "HTMLModel",
            "placeholder": "​",
            "_view_module": "@jupyter-widgets/controls",
            "_model_module_version": "1.5.0",
            "value": " 32/32 [44:51&lt;00:00, 84.12s/it]",
            "_view_count": null,
            "_view_module_version": "1.5.0",
            "description_tooltip": null,
            "_model_module": "@jupyter-widgets/controls",
            "layout": "IPY_MODEL_707fd1c3dac1485188faed52f756e4f8"
          }
        },
        "b6bd34fa37e248cc9df5c60178e56944": {
          "model_module": "@jupyter-widgets/controls",
          "model_name": "ProgressStyleModel",
          "state": {
            "_view_name": "StyleView",
            "_model_name": "ProgressStyleModel",
            "description_width": "initial",
            "_view_module": "@jupyter-widgets/base",
            "_model_module_version": "1.5.0",
            "_view_count": null,
            "_view_module_version": "1.2.0",
            "bar_color": null,
            "_model_module": "@jupyter-widgets/controls"
          }
        },
        "f385af9940e74b5bae769180aee0e90c": {
          "model_module": "@jupyter-widgets/base",
          "model_name": "LayoutModel",
          "state": {
            "_view_name": "LayoutView",
            "grid_template_rows": null,
            "right": null,
            "justify_content": null,
            "_view_module": "@jupyter-widgets/base",
            "overflow": null,
            "_model_module_version": "1.2.0",
            "_view_count": null,
            "flex_flow": null,
            "width": null,
            "min_width": null,
            "border": null,
            "align_items": null,
            "bottom": null,
            "_model_module": "@jupyter-widgets/base",
            "top": null,
            "grid_column": null,
            "overflow_y": null,
            "overflow_x": null,
            "grid_auto_flow": null,
            "grid_area": null,
            "grid_template_columns": null,
            "flex": null,
            "_model_name": "LayoutModel",
            "justify_items": null,
            "grid_row": null,
            "max_height": null,
            "align_content": null,
            "visibility": null,
            "align_self": null,
            "height": null,
            "min_height": null,
            "padding": null,
            "grid_auto_rows": null,
            "grid_gap": null,
            "max_width": null,
            "order": null,
            "_view_module_version": "1.2.0",
            "grid_template_areas": null,
            "object_position": null,
            "object_fit": null,
            "grid_auto_columns": null,
            "margin": null,
            "display": null,
            "left": null
          }
        },
        "83449706998a486d8cccb7a726c85ba7": {
          "model_module": "@jupyter-widgets/controls",
          "model_name": "DescriptionStyleModel",
          "state": {
            "_view_name": "StyleView",
            "_model_name": "DescriptionStyleModel",
            "description_width": "",
            "_view_module": "@jupyter-widgets/base",
            "_model_module_version": "1.5.0",
            "_view_count": null,
            "_view_module_version": "1.2.0",
            "_model_module": "@jupyter-widgets/controls"
          }
        },
        "707fd1c3dac1485188faed52f756e4f8": {
          "model_module": "@jupyter-widgets/base",
          "model_name": "LayoutModel",
          "state": {
            "_view_name": "LayoutView",
            "grid_template_rows": null,
            "right": null,
            "justify_content": null,
            "_view_module": "@jupyter-widgets/base",
            "overflow": null,
            "_model_module_version": "1.2.0",
            "_view_count": null,
            "flex_flow": null,
            "width": null,
            "min_width": null,
            "border": null,
            "align_items": null,
            "bottom": null,
            "_model_module": "@jupyter-widgets/base",
            "top": null,
            "grid_column": null,
            "overflow_y": null,
            "overflow_x": null,
            "grid_auto_flow": null,
            "grid_area": null,
            "grid_template_columns": null,
            "flex": null,
            "_model_name": "LayoutModel",
            "justify_items": null,
            "grid_row": null,
            "max_height": null,
            "align_content": null,
            "visibility": null,
            "align_self": null,
            "height": null,
            "min_height": null,
            "padding": null,
            "grid_auto_rows": null,
            "grid_gap": null,
            "max_width": null,
            "order": null,
            "_view_module_version": "1.2.0",
            "grid_template_areas": null,
            "object_position": null,
            "object_fit": null,
            "grid_auto_columns": null,
            "margin": null,
            "display": null,
            "left": null
          }
        },
        "66a26864bbf04b7f95f826a5f150adbe": {
          "model_module": "@jupyter-widgets/controls",
          "model_name": "HBoxModel",
          "state": {
            "_view_name": "HBoxView",
            "_dom_classes": [],
            "_model_name": "HBoxModel",
            "_view_module": "@jupyter-widgets/controls",
            "_model_module_version": "1.5.0",
            "_view_count": null,
            "_view_module_version": "1.5.0",
            "box_style": "",
            "layout": "IPY_MODEL_f1072389566e4179b88de15efdd2295d",
            "_model_module": "@jupyter-widgets/controls",
            "children": [
              "IPY_MODEL_5a0a816a9f5d40b4b56fb26a408f3c78",
              "IPY_MODEL_3d49cf84f1ce4faf97800bc3a85d25f8"
            ]
          }
        },
        "f1072389566e4179b88de15efdd2295d": {
          "model_module": "@jupyter-widgets/base",
          "model_name": "LayoutModel",
          "state": {
            "_view_name": "LayoutView",
            "grid_template_rows": null,
            "right": null,
            "justify_content": null,
            "_view_module": "@jupyter-widgets/base",
            "overflow": null,
            "_model_module_version": "1.2.0",
            "_view_count": null,
            "flex_flow": null,
            "width": null,
            "min_width": null,
            "border": null,
            "align_items": null,
            "bottom": null,
            "_model_module": "@jupyter-widgets/base",
            "top": null,
            "grid_column": null,
            "overflow_y": null,
            "overflow_x": null,
            "grid_auto_flow": null,
            "grid_area": null,
            "grid_template_columns": null,
            "flex": null,
            "_model_name": "LayoutModel",
            "justify_items": null,
            "grid_row": null,
            "max_height": null,
            "align_content": null,
            "visibility": null,
            "align_self": null,
            "height": null,
            "min_height": null,
            "padding": null,
            "grid_auto_rows": null,
            "grid_gap": null,
            "max_width": null,
            "order": null,
            "_view_module_version": "1.2.0",
            "grid_template_areas": null,
            "object_position": null,
            "object_fit": null,
            "grid_auto_columns": null,
            "margin": null,
            "display": null,
            "left": null
          }
        },
        "5a0a816a9f5d40b4b56fb26a408f3c78": {
          "model_module": "@jupyter-widgets/controls",
          "model_name": "FloatProgressModel",
          "state": {
            "_view_name": "ProgressView",
            "style": "IPY_MODEL_4eedb8ab6e6f434aa44265d764c5f3df",
            "_dom_classes": [],
            "description": "100%",
            "_model_name": "FloatProgressModel",
            "bar_style": "success",
            "max": 32,
            "_view_module": "@jupyter-widgets/controls",
            "_model_module_version": "1.5.0",
            "value": 32,
            "_view_count": null,
            "_view_module_version": "1.5.0",
            "orientation": "horizontal",
            "min": 0,
            "description_tooltip": null,
            "_model_module": "@jupyter-widgets/controls",
            "layout": "IPY_MODEL_42a07bd342ce4fe98c6d3cb676160706"
          }
        },
        "3d49cf84f1ce4faf97800bc3a85d25f8": {
          "model_module": "@jupyter-widgets/controls",
          "model_name": "HTMLModel",
          "state": {
            "_view_name": "HTMLView",
            "style": "IPY_MODEL_e849d517411c46549339645c02631dab",
            "_dom_classes": [],
            "description": "",
            "_model_name": "HTMLModel",
            "placeholder": "​",
            "_view_module": "@jupyter-widgets/controls",
            "_model_module_version": "1.5.0",
            "value": " 32/32 [44:28&lt;00:00, 83.40s/it]",
            "_view_count": null,
            "_view_module_version": "1.5.0",
            "description_tooltip": null,
            "_model_module": "@jupyter-widgets/controls",
            "layout": "IPY_MODEL_25e660925d3d44609cdeb4a6bddd0800"
          }
        },
        "4eedb8ab6e6f434aa44265d764c5f3df": {
          "model_module": "@jupyter-widgets/controls",
          "model_name": "ProgressStyleModel",
          "state": {
            "_view_name": "StyleView",
            "_model_name": "ProgressStyleModel",
            "description_width": "initial",
            "_view_module": "@jupyter-widgets/base",
            "_model_module_version": "1.5.0",
            "_view_count": null,
            "_view_module_version": "1.2.0",
            "bar_color": null,
            "_model_module": "@jupyter-widgets/controls"
          }
        },
        "42a07bd342ce4fe98c6d3cb676160706": {
          "model_module": "@jupyter-widgets/base",
          "model_name": "LayoutModel",
          "state": {
            "_view_name": "LayoutView",
            "grid_template_rows": null,
            "right": null,
            "justify_content": null,
            "_view_module": "@jupyter-widgets/base",
            "overflow": null,
            "_model_module_version": "1.2.0",
            "_view_count": null,
            "flex_flow": null,
            "width": null,
            "min_width": null,
            "border": null,
            "align_items": null,
            "bottom": null,
            "_model_module": "@jupyter-widgets/base",
            "top": null,
            "grid_column": null,
            "overflow_y": null,
            "overflow_x": null,
            "grid_auto_flow": null,
            "grid_area": null,
            "grid_template_columns": null,
            "flex": null,
            "_model_name": "LayoutModel",
            "justify_items": null,
            "grid_row": null,
            "max_height": null,
            "align_content": null,
            "visibility": null,
            "align_self": null,
            "height": null,
            "min_height": null,
            "padding": null,
            "grid_auto_rows": null,
            "grid_gap": null,
            "max_width": null,
            "order": null,
            "_view_module_version": "1.2.0",
            "grid_template_areas": null,
            "object_position": null,
            "object_fit": null,
            "grid_auto_columns": null,
            "margin": null,
            "display": null,
            "left": null
          }
        },
        "e849d517411c46549339645c02631dab": {
          "model_module": "@jupyter-widgets/controls",
          "model_name": "DescriptionStyleModel",
          "state": {
            "_view_name": "StyleView",
            "_model_name": "DescriptionStyleModel",
            "description_width": "",
            "_view_module": "@jupyter-widgets/base",
            "_model_module_version": "1.5.0",
            "_view_count": null,
            "_view_module_version": "1.2.0",
            "_model_module": "@jupyter-widgets/controls"
          }
        },
        "25e660925d3d44609cdeb4a6bddd0800": {
          "model_module": "@jupyter-widgets/base",
          "model_name": "LayoutModel",
          "state": {
            "_view_name": "LayoutView",
            "grid_template_rows": null,
            "right": null,
            "justify_content": null,
            "_view_module": "@jupyter-widgets/base",
            "overflow": null,
            "_model_module_version": "1.2.0",
            "_view_count": null,
            "flex_flow": null,
            "width": null,
            "min_width": null,
            "border": null,
            "align_items": null,
            "bottom": null,
            "_model_module": "@jupyter-widgets/base",
            "top": null,
            "grid_column": null,
            "overflow_y": null,
            "overflow_x": null,
            "grid_auto_flow": null,
            "grid_area": null,
            "grid_template_columns": null,
            "flex": null,
            "_model_name": "LayoutModel",
            "justify_items": null,
            "grid_row": null,
            "max_height": null,
            "align_content": null,
            "visibility": null,
            "align_self": null,
            "height": null,
            "min_height": null,
            "padding": null,
            "grid_auto_rows": null,
            "grid_gap": null,
            "max_width": null,
            "order": null,
            "_view_module_version": "1.2.0",
            "grid_template_areas": null,
            "object_position": null,
            "object_fit": null,
            "grid_auto_columns": null,
            "margin": null,
            "display": null,
            "left": null
          }
        },
        "9d6f47ad2e394bc08a57b90ac09f976e": {
          "model_module": "@jupyter-widgets/controls",
          "model_name": "HBoxModel",
          "state": {
            "_view_name": "HBoxView",
            "_dom_classes": [],
            "_model_name": "HBoxModel",
            "_view_module": "@jupyter-widgets/controls",
            "_model_module_version": "1.5.0",
            "_view_count": null,
            "_view_module_version": "1.5.0",
            "box_style": "",
            "layout": "IPY_MODEL_86764fc12b7e4c8bacb24791c4954b51",
            "_model_module": "@jupyter-widgets/controls",
            "children": [
              "IPY_MODEL_cd1b10bb1398467fa20b7cef2233c711",
              "IPY_MODEL_4ec86399a68a4eeb9cf4bb764f769d3b"
            ]
          }
        },
        "86764fc12b7e4c8bacb24791c4954b51": {
          "model_module": "@jupyter-widgets/base",
          "model_name": "LayoutModel",
          "state": {
            "_view_name": "LayoutView",
            "grid_template_rows": null,
            "right": null,
            "justify_content": null,
            "_view_module": "@jupyter-widgets/base",
            "overflow": null,
            "_model_module_version": "1.2.0",
            "_view_count": null,
            "flex_flow": null,
            "width": null,
            "min_width": null,
            "border": null,
            "align_items": null,
            "bottom": null,
            "_model_module": "@jupyter-widgets/base",
            "top": null,
            "grid_column": null,
            "overflow_y": null,
            "overflow_x": null,
            "grid_auto_flow": null,
            "grid_area": null,
            "grid_template_columns": null,
            "flex": null,
            "_model_name": "LayoutModel",
            "justify_items": null,
            "grid_row": null,
            "max_height": null,
            "align_content": null,
            "visibility": null,
            "align_self": null,
            "height": null,
            "min_height": null,
            "padding": null,
            "grid_auto_rows": null,
            "grid_gap": null,
            "max_width": null,
            "order": null,
            "_view_module_version": "1.2.0",
            "grid_template_areas": null,
            "object_position": null,
            "object_fit": null,
            "grid_auto_columns": null,
            "margin": null,
            "display": null,
            "left": null
          }
        },
        "cd1b10bb1398467fa20b7cef2233c711": {
          "model_module": "@jupyter-widgets/controls",
          "model_name": "FloatProgressModel",
          "state": {
            "_view_name": "ProgressView",
            "style": "IPY_MODEL_8aaa8d3736804dea8cc4059bb7799835",
            "_dom_classes": [],
            "description": "  6%",
            "_model_name": "FloatProgressModel",
            "bar_style": "danger",
            "max": 32,
            "_view_module": "@jupyter-widgets/controls",
            "_model_module_version": "1.5.0",
            "value": 2,
            "_view_count": null,
            "_view_module_version": "1.5.0",
            "orientation": "horizontal",
            "min": 0,
            "description_tooltip": null,
            "_model_module": "@jupyter-widgets/controls",
            "layout": "IPY_MODEL_334e86c72cf648b1afd0d3a61413f58b"
          }
        },
        "4ec86399a68a4eeb9cf4bb764f769d3b": {
          "model_module": "@jupyter-widgets/controls",
          "model_name": "HTMLModel",
          "state": {
            "_view_name": "HTMLView",
            "style": "IPY_MODEL_50209d297a1143f18c32c6b9d030f4a8",
            "_dom_classes": [],
            "description": "",
            "_model_name": "HTMLModel",
            "placeholder": "​",
            "_view_module": "@jupyter-widgets/controls",
            "_model_module_version": "1.5.0",
            "value": " 2/32 [03:44&lt;32:22, 64.76s/it]",
            "_view_count": null,
            "_view_module_version": "1.5.0",
            "description_tooltip": null,
            "_model_module": "@jupyter-widgets/controls",
            "layout": "IPY_MODEL_05395143050b442799005bf27a1b28ec"
          }
        },
        "8aaa8d3736804dea8cc4059bb7799835": {
          "model_module": "@jupyter-widgets/controls",
          "model_name": "ProgressStyleModel",
          "state": {
            "_view_name": "StyleView",
            "_model_name": "ProgressStyleModel",
            "description_width": "initial",
            "_view_module": "@jupyter-widgets/base",
            "_model_module_version": "1.5.0",
            "_view_count": null,
            "_view_module_version": "1.2.0",
            "bar_color": null,
            "_model_module": "@jupyter-widgets/controls"
          }
        },
        "334e86c72cf648b1afd0d3a61413f58b": {
          "model_module": "@jupyter-widgets/base",
          "model_name": "LayoutModel",
          "state": {
            "_view_name": "LayoutView",
            "grid_template_rows": null,
            "right": null,
            "justify_content": null,
            "_view_module": "@jupyter-widgets/base",
            "overflow": null,
            "_model_module_version": "1.2.0",
            "_view_count": null,
            "flex_flow": null,
            "width": null,
            "min_width": null,
            "border": null,
            "align_items": null,
            "bottom": null,
            "_model_module": "@jupyter-widgets/base",
            "top": null,
            "grid_column": null,
            "overflow_y": null,
            "overflow_x": null,
            "grid_auto_flow": null,
            "grid_area": null,
            "grid_template_columns": null,
            "flex": null,
            "_model_name": "LayoutModel",
            "justify_items": null,
            "grid_row": null,
            "max_height": null,
            "align_content": null,
            "visibility": null,
            "align_self": null,
            "height": null,
            "min_height": null,
            "padding": null,
            "grid_auto_rows": null,
            "grid_gap": null,
            "max_width": null,
            "order": null,
            "_view_module_version": "1.2.0",
            "grid_template_areas": null,
            "object_position": null,
            "object_fit": null,
            "grid_auto_columns": null,
            "margin": null,
            "display": null,
            "left": null
          }
        },
        "50209d297a1143f18c32c6b9d030f4a8": {
          "model_module": "@jupyter-widgets/controls",
          "model_name": "DescriptionStyleModel",
          "state": {
            "_view_name": "StyleView",
            "_model_name": "DescriptionStyleModel",
            "description_width": "",
            "_view_module": "@jupyter-widgets/base",
            "_model_module_version": "1.5.0",
            "_view_count": null,
            "_view_module_version": "1.2.0",
            "_model_module": "@jupyter-widgets/controls"
          }
        },
        "05395143050b442799005bf27a1b28ec": {
          "model_module": "@jupyter-widgets/base",
          "model_name": "LayoutModel",
          "state": {
            "_view_name": "LayoutView",
            "grid_template_rows": null,
            "right": null,
            "justify_content": null,
            "_view_module": "@jupyter-widgets/base",
            "overflow": null,
            "_model_module_version": "1.2.0",
            "_view_count": null,
            "flex_flow": null,
            "width": null,
            "min_width": null,
            "border": null,
            "align_items": null,
            "bottom": null,
            "_model_module": "@jupyter-widgets/base",
            "top": null,
            "grid_column": null,
            "overflow_y": null,
            "overflow_x": null,
            "grid_auto_flow": null,
            "grid_area": null,
            "grid_template_columns": null,
            "flex": null,
            "_model_name": "LayoutModel",
            "justify_items": null,
            "grid_row": null,
            "max_height": null,
            "align_content": null,
            "visibility": null,
            "align_self": null,
            "height": null,
            "min_height": null,
            "padding": null,
            "grid_auto_rows": null,
            "grid_gap": null,
            "max_width": null,
            "order": null,
            "_view_module_version": "1.2.0",
            "grid_template_areas": null,
            "object_position": null,
            "object_fit": null,
            "grid_auto_columns": null,
            "margin": null,
            "display": null,
            "left": null
          }
        }
      }
    }
  },
  "cells": [
    {
      "cell_type": "code",
      "metadata": {
        "id": "OGG8luT9T7ON",
        "colab_type": "code",
        "colab": {}
      },
      "source": [
        "import torch\n",
        "import torchvision\n",
        "import torch.nn as nn\n",
        "import torch.nn.functional as F\n",
        "import torch.optim as optim\n",
        "import torchvision.transforms as transforms\n",
        "import torchvision.datasets as dsets\n",
        "import torch.utils.data as loader\n",
        "import matplotlib.pyplot as plt\n",
        "import numpy as np\n",
        "from torchsummary import summary\n",
        "from tqdm.notebook import tqdm"
      ],
      "execution_count": 0,
      "outputs": []
    },
    {
      "cell_type": "code",
      "metadata": {
        "id": "SIiMBb7WUfmO",
        "colab_type": "code",
        "colab": {
          "base_uri": "https://localhost:8080/",
          "height": 34
        },
        "outputId": "e9be911d-d76d-4940-9444-cba398c7fab1"
      },
      "source": [
        "device = \"cuda:0\" if torch.cuda.is_available() else \"cpu\"\n",
        "print(device)"
      ],
      "execution_count": 2,
      "outputs": [
        {
          "output_type": "stream",
          "text": [
            "cuda:0\n"
          ],
          "name": "stdout"
        }
      ]
    },
    {
      "cell_type": "code",
      "metadata": {
        "id": "sd1TnKqKVS29",
        "colab_type": "code",
        "colab": {}
      },
      "source": [
        "in_vect_size = 200"
      ],
      "execution_count": 0,
      "outputs": []
    },
    {
      "cell_type": "code",
      "metadata": {
        "id": "beWsBDdbUsR3",
        "colab_type": "code",
        "outputId": "177ceebe-b42f-46f8-a0bb-2f8ca9b301f7",
        "colab": {
          "base_uri": "https://localhost:8080/",
          "height": 476
        }
      },
      "source": [
        "class generator(nn.Module):\n",
        "    \"\"\"\n",
        "    Generator for 3D-GAN-\n",
        "    The generator consists of five fully convolution layers with numbers of channels\n",
        "    {512, 256, 128, 64, 1}, kernel sizes {4, 4, 4, 4, 4}, and strides {1, 2, 2, 2, 2}. \n",
        "    We add ReLU and batch normalization layers between convolutional layers, and a Sigmoid\n",
        "    layer at the end. The input is a 200-dimensional vector, and the output is a 64 × 64 × 64 \n",
        "    matrix with values in [0, 1].\n",
        "    \"\"\"\n",
        "    def __init__(self):\n",
        "        super().__init__()\n",
        "        self.layer1=nn.Sequential(\n",
        "            nn.ConvTranspose3d(in_channels=200,out_channels=512,kernel_size=3,stride=1),\n",
        "            nn.BatchNorm3d(512),\n",
        "            nn.ReLU(),\n",
        "        )\n",
        "        self.layer2=nn.Sequential(\n",
        "            nn.ConvTranspose3d(in_channels=512,out_channels=256,kernel_size=3,stride=2),\n",
        "            nn.BatchNorm3d(256),\n",
        "            nn.ReLU(),\n",
        "        )\n",
        "        self.layer3=nn.Sequential(\n",
        "            nn.ConvTranspose3d(in_channels=256,out_channels=128,kernel_size=3,stride=2),\n",
        "            nn.BatchNorm3d(128),\n",
        "            nn.ReLU(),\n",
        "        )\n",
        "        self.layer4=nn.Sequential(\n",
        "            nn.ConvTranspose3d(in_channels=128,out_channels=64,kernel_size=3,stride=2),\n",
        "            nn.BatchNorm3d(64),\n",
        "            nn.ReLU(),\n",
        "        )\n",
        "        self.layer5=nn.Sequential(\n",
        "            nn.ConvTranspose3d(in_channels=64,out_channels=1,kernel_size=4,stride=2),\n",
        "            nn.Sigmoid(),\n",
        "        )\n",
        "    \n",
        "    def forward(self,x):\n",
        "        bsize=x.size(0)\n",
        "        x=x.view(bsize,in_vect_size,1,1,1)\n",
        "        x=self.layer1(x)\n",
        "        x=self.layer2(x)\n",
        "        x=self.layer3(x)\n",
        "        x=self.layer4(x)\n",
        "        x=self.layer5(x)\n",
        "        return x\n",
        "G_=generator().to(device)\n",
        "summary(G_,(1,in_vect_size))"
      ],
      "execution_count": 4,
      "outputs": [
        {
          "output_type": "stream",
          "text": [
            "----------------------------------------------------------------\n",
            "        Layer (type)               Output Shape         Param #\n",
            "================================================================\n",
            "   ConvTranspose3d-1         [-1, 512, 3, 3, 3]       2,765,312\n",
            "       BatchNorm3d-2         [-1, 512, 3, 3, 3]           1,024\n",
            "              ReLU-3         [-1, 512, 3, 3, 3]               0\n",
            "   ConvTranspose3d-4         [-1, 256, 7, 7, 7]       3,539,200\n",
            "       BatchNorm3d-5         [-1, 256, 7, 7, 7]             512\n",
            "              ReLU-6         [-1, 256, 7, 7, 7]               0\n",
            "   ConvTranspose3d-7      [-1, 128, 15, 15, 15]         884,864\n",
            "       BatchNorm3d-8      [-1, 128, 15, 15, 15]             256\n",
            "              ReLU-9      [-1, 128, 15, 15, 15]               0\n",
            "  ConvTranspose3d-10       [-1, 64, 31, 31, 31]         221,248\n",
            "      BatchNorm3d-11       [-1, 64, 31, 31, 31]             128\n",
            "             ReLU-12       [-1, 64, 31, 31, 31]               0\n",
            "  ConvTranspose3d-13        [-1, 1, 64, 64, 64]           4,097\n",
            "          Sigmoid-14        [-1, 1, 64, 64, 64]               0\n",
            "================================================================\n",
            "Total params: 7,416,641\n",
            "Trainable params: 7,416,641\n",
            "Non-trainable params: 0\n",
            "----------------------------------------------------------------\n",
            "Input size (MB): 0.00\n",
            "Forward/backward pass size (MB): 59.85\n",
            "Params size (MB): 28.29\n",
            "Estimated Total Size (MB): 88.15\n",
            "----------------------------------------------------------------\n"
          ],
          "name": "stdout"
        }
      ]
    },
    {
      "cell_type": "code",
      "metadata": {
        "id": "VyJd83RJ52k0",
        "colab_type": "code",
        "outputId": "01acc9b0-2e6f-4c09-9d17-0cf49033cef0",
        "colab": {
          "base_uri": "https://localhost:8080/",
          "height": 476
        }
      },
      "source": [
        "class discriminator(nn.Module):\n",
        "    \"\"\"\n",
        "    Discriminator for 3D-GAN-\n",
        "    As a mirrored version of the generator, the discriminator takes as input a \n",
        "    64 × 64 × 64 matrix, and outputs a real number in [0, 1]. The discriminator \n",
        "    consists of 5 volumetric convolution layers, with numbers of channels {64,128,256,512,1}, \n",
        "    kernel sizes {4,4,4,4,4}, and strides {2, 2, 2, 2, 1}. There are leaky ReLU layers of \n",
        "    parameter 0.2 and batch normalization layers in between, and a Sigmoid layer at the end.\n",
        "    \"\"\"\n",
        "    def __init__(self):\n",
        "        super().__init__()\n",
        "        self.layer1=nn.Sequential(\n",
        "            nn.Conv3d(in_channels=1,out_channels=64,kernel_size=4,stride=2),\n",
        "            nn.BatchNorm3d(64),\n",
        "            nn.LeakyReLU(0.2)\n",
        "        )\n",
        "        self.layer2=nn.Sequential(\n",
        "            nn.Conv3d(in_channels=64,out_channels=128,kernel_size=4,stride=2),\n",
        "            nn.BatchNorm3d(128),\n",
        "            nn.LeakyReLU(0.2)\n",
        "        )\n",
        "        self.layer3=nn.Sequential(\n",
        "            nn.Conv3d(in_channels=128,out_channels=256,kernel_size=4,stride=2),\n",
        "            nn.BatchNorm3d(256),\n",
        "            nn.LeakyReLU(0.2)\n",
        "        )\n",
        "        self.layer4=nn.Sequential(\n",
        "            nn.Conv3d(in_channels=256,out_channels=512,kernel_size=4,stride=2),\n",
        "            nn.BatchNorm3d(512),\n",
        "            nn.LeakyReLU(0.2)\n",
        "        )\n",
        "        self.layer5=nn.Sequential(\n",
        "            nn.Conv3d(in_channels=512,out_channels=1,kernel_size=2,stride=1),\n",
        "            nn.Sigmoid()\n",
        "        )\n",
        "\n",
        "    def forward(self,x):\n",
        "        bsize=x.size(0)\n",
        "        x=self.layer1(x)\n",
        "        x=self.layer2(x)\n",
        "        x=self.layer3(x)\n",
        "        x=self.layer4(x)\n",
        "        x=self.layer5(x)\n",
        "        x=x.view(bsize,1)\n",
        "        return x\n",
        "D_=discriminator().to(device)\n",
        "summary(D_,(1,64,64,64))"
      ],
      "execution_count": 5,
      "outputs": [
        {
          "output_type": "stream",
          "text": [
            "----------------------------------------------------------------\n",
            "        Layer (type)               Output Shape         Param #\n",
            "================================================================\n",
            "            Conv3d-1       [-1, 64, 31, 31, 31]           4,160\n",
            "       BatchNorm3d-2       [-1, 64, 31, 31, 31]             128\n",
            "         LeakyReLU-3       [-1, 64, 31, 31, 31]               0\n",
            "            Conv3d-4      [-1, 128, 14, 14, 14]         524,416\n",
            "       BatchNorm3d-5      [-1, 128, 14, 14, 14]             256\n",
            "         LeakyReLU-6      [-1, 128, 14, 14, 14]               0\n",
            "            Conv3d-7         [-1, 256, 6, 6, 6]       2,097,408\n",
            "       BatchNorm3d-8         [-1, 256, 6, 6, 6]             512\n",
            "         LeakyReLU-9         [-1, 256, 6, 6, 6]               0\n",
            "           Conv3d-10         [-1, 512, 2, 2, 2]       8,389,120\n",
            "      BatchNorm3d-11         [-1, 512, 2, 2, 2]           1,024\n",
            "        LeakyReLU-12         [-1, 512, 2, 2, 2]               0\n",
            "           Conv3d-13           [-1, 1, 1, 1, 1]           4,097\n",
            "          Sigmoid-14           [-1, 1, 1, 1, 1]               0\n",
            "================================================================\n",
            "Total params: 11,021,121\n",
            "Trainable params: 11,021,121\n",
            "Non-trainable params: 0\n",
            "----------------------------------------------------------------\n",
            "Input size (MB): 1.00\n",
            "Forward/backward pass size (MB): 53.04\n",
            "Params size (MB): 42.04\n",
            "Estimated Total Size (MB): 96.08\n",
            "----------------------------------------------------------------\n"
          ],
          "name": "stdout"
        }
      ]
    },
    {
      "cell_type": "code",
      "metadata": {
        "id": "jyv94youz-Dl",
        "colab_type": "code",
        "colab": {}
      },
      "source": [
        "from torch.utils.data import Dataset\n",
        "import gzip\n",
        "import os\n",
        "class ModelNet10GAN(Dataset):\n",
        "    \"\"\"\n",
        "    Custom dataset for training a 3D-GAN, without using a variational autoencoder.\n",
        "    I have not implemented download of dataset.\n",
        "    \"\"\"\n",
        "    def __init__(self, dir=\"./\", download=False):\n",
        "        \"\"\"\n",
        "        Args:\n",
        "            dir (string): Path in which you want the dataset \n",
        "                to be saved (keep a minimum space of 9 GBs).\n",
        "            download (boolean): Set to True if you want to download. \n",
        "                Default=False.\n",
        "        \"\"\"\n",
        "        self.dir=dir\n",
        "        self.download=download\n",
        "        if not self._check_exists():\n",
        "            raise RuntimeError('modelnet10.npy.gz not present in '+self.dir)\n",
        "        with gzip.open(self.dir+'modelnet10.npy.gz','rb') as f:\n",
        "            self.arr=np.load(f)\n",
        "        \n",
        "        \n",
        "\n",
        "    def __getitem__(self, ind):\n",
        "        \"\"\"\n",
        "        Args:\n",
        "            ind (int): Index of the sample you want. \n",
        "\n",
        "        Returns:\n",
        "            Tensor: (torch.Tensor, Size: (1,64,64,64))\n",
        "        \"\"\"\n",
        "        return torch.tensor(self.arr[ind+1])\n",
        "\n",
        "    def __len__(self):\n",
        "        return (self.arr.shape[0]-1)\n",
        "\n",
        "    def _check_exists(self):\n",
        "        return (os.path.exists(self.dir+\"modelnet10.npy.gz\"))"
      ],
      "execution_count": 0,
      "outputs": []
    },
    {
      "cell_type": "code",
      "metadata": {
        "id": "H7mZ4cyFTioe",
        "colab_type": "code",
        "colab": {
          "base_uri": "https://localhost:8080/",
          "height": 34
        },
        "outputId": "c9284b08-3005-4385-bed0-c6fef26c3d4e"
      },
      "source": [
        "dataset=ModelNet10GAN(dir='./')\n",
        "batchsize=128\n",
        "data_loader=loader.DataLoader(dataset, batch_size=batchsize)\n",
        "print(len(data_loader))"
      ],
      "execution_count": 7,
      "outputs": [
        {
          "output_type": "stream",
          "text": [
            "32\n"
          ],
          "name": "stdout"
        }
      ]
    },
    {
      "cell_type": "code",
      "metadata": {
        "id": "4xMKvKkcVZ9J",
        "colab_type": "code",
        "colab": {}
      },
      "source": [
        "num_epochs=10\n",
        "d_optimizer=optim.Adam(D_.parameters(),lr=0.00001,betas=(0.5,0.999))\n",
        "g_optimizer=optim.Adam(G_.parameters(),lr=0.0025,betas=(0.5,0.999))\n",
        "g_losses=[]\n",
        "d_losses=[]\n",
        "models=[]\n",
        "criterion=nn.BCELoss()"
      ],
      "execution_count": 0,
      "outputs": []
    },
    {
      "cell_type": "code",
      "metadata": {
        "id": "OY59H01nwPfA",
        "colab_type": "code",
        "colab": {}
      },
      "source": [
        "def train_discriminator(optimizer,real_data,fake_data,prev_acc,device):\n",
        "\n",
        "  optimizer.zero_grad()\n",
        "  prediction_real = D_(real_data)\n",
        "  loss_real = criterion(prediction_real,torch.ones((real_data.size(0),1)).to(device))\n",
        "  loss_real.backward()\n",
        "  p_acc=torch.mean(prediction_real)\n",
        "\n",
        "  prediction_fake = D_(fake_data)\n",
        "  p_acc+=torch.mean(prediction_fake)\n",
        "  loss_fake = criterion(prediction_fake,torch.zeros((fake_data.size(0),1)).to(device))\n",
        "  loss_fake.backward()\n",
        "\n",
        "  if prev_acc<=0.8 :\n",
        "      optimizer.step()\n",
        "\n",
        "  return (loss_real+loss_fake),p_acc/2\n",
        "def train_generator(optimizer,fake_data,device):\n",
        "\n",
        "  optimizer.zero_grad()\n",
        "  prediction = D_(fake_data)\n",
        "  error = criterion(prediction,torch.ones((fake_data.size(0),1)).to(device))\n",
        "  error.backward()\n",
        "  optimizer.step()\n",
        "\n",
        "  return error\n",
        "def noise(size,inp_vec_size,device):\n",
        "    return torch.rand((size,inp_vec_size),device=device)"
      ],
      "execution_count": 0,
      "outputs": []
    },
    {
      "cell_type": "code",
      "metadata": {
        "id": "lfKeqcIAxdCX",
        "colab_type": "code",
        "colab": {
          "base_uri": "https://localhost:8080/",
          "height": 1000,
          "referenced_widgets": [
            "11a85522d8614e5b8f2b571f6e9b159d",
            "29b731840f8b40a4aa99ff3be7da35e2",
            "1eb5ba7a1d2a466e9c50f8b3e6a7d3eb",
            "b8e3ba66a37746c4a64ab35a1e502758",
            "b6bd34fa37e248cc9df5c60178e56944",
            "f385af9940e74b5bae769180aee0e90c",
            "83449706998a486d8cccb7a726c85ba7",
            "707fd1c3dac1485188faed52f756e4f8",
            "66a26864bbf04b7f95f826a5f150adbe",
            "f1072389566e4179b88de15efdd2295d",
            "5a0a816a9f5d40b4b56fb26a408f3c78",
            "3d49cf84f1ce4faf97800bc3a85d25f8",
            "4eedb8ab6e6f434aa44265d764c5f3df",
            "42a07bd342ce4fe98c6d3cb676160706",
            "e849d517411c46549339645c02631dab",
            "25e660925d3d44609cdeb4a6bddd0800",
            "9d6f47ad2e394bc08a57b90ac09f976e",
            "86764fc12b7e4c8bacb24791c4954b51",
            "cd1b10bb1398467fa20b7cef2233c711",
            "4ec86399a68a4eeb9cf4bb764f769d3b",
            "8aaa8d3736804dea8cc4059bb7799835",
            "334e86c72cf648b1afd0d3a61413f58b",
            "50209d297a1143f18c32c6b9d030f4a8",
            "05395143050b442799005bf27a1b28ec"
          ]
        },
        "outputId": "0e74318e-1a04-438a-f4ed-cedc1e17e2e9"
      },
      "source": [
        "import time\n",
        "G_.train()\n",
        "D_.train()\n",
        "prev_acc=0.5\n",
        "for epoch in range(num_epochs):\n",
        "    start=time.time()\n",
        "    running_g_error=0.0\n",
        "    running_d_error=0.0\n",
        "    for data in tqdm(data_loader):\n",
        "        mods=data.to(device).float()\n",
        "        fake_data=G_(noise(batchsize,in_vect_size,device)).detach()\n",
        "        real_data=mods\n",
        "        d_error,prev_acc=train_discriminator(d_optimizer,real_data,fake_data,prev_acc,device)\n",
        "        print(prev_acc)\n",
        "        running_d_error+=d_error\n",
        "        fake_data_1=G_(noise(batchsize,in_vect_size,device))\n",
        "        running_g_error+=train_generator(g_optimizer,fake_data_1,device)\n",
        "        del mods\n",
        "        del real_data\n",
        "        del fake_data\n",
        "        del fake_data_1\n",
        "    g_losses.append(running_g_error/32)\n",
        "    d_losses.append(running_d_error/32)\n",
        "    if epoch in [0,1,2,3,4,5,6,7,8,9]:\n",
        "        fig = plt.figure()\n",
        "        ax = fig.gca(projection='3d')\n",
        "        ax.voxels(G_(noise(1,in_vect_size,device)).squeeze().detach().cpu().numpy(),facecolors='red')\n",
        "        fig.savefig('fig{0}.png'.format(epoch+1))\n",
        "        plt.close()\n",
        "    print(\"Epoch: \",epoch+1,\" G_loss=\",running_g_error.item(),' D_loss=',running_d_error.item(),' time elapsed=',(time.time()-start)/60.0)\n",
        "    torch.cuda.empty_cache()"
      ],
      "execution_count": 10,
      "outputs": [
        {
          "output_type": "display_data",
          "data": {
            "application/vnd.jupyter.widget-view+json": {
              "model_id": "11a85522d8614e5b8f2b571f6e9b159d",
              "version_minor": 0,
              "version_major": 2
            },
            "text/plain": [
              "HBox(children=(FloatProgress(value=0.0, max=32.0), HTML(value='')))"
            ]
          },
          "metadata": {
            "tags": []
          }
        },
        {
          "output_type": "stream",
          "text": [
            "tensor(0.4383, device='cuda:0', grad_fn=<DivBackward0>)\n",
            "tensor(0.7276, device='cuda:0', grad_fn=<DivBackward0>)\n",
            "tensor(0.7578, device='cuda:0', grad_fn=<DivBackward0>)\n",
            "tensor(0.7562, device='cuda:0', grad_fn=<DivBackward0>)\n",
            "tensor(0.7659, device='cuda:0', grad_fn=<DivBackward0>)\n",
            "tensor(0.7556, device='cuda:0', grad_fn=<DivBackward0>)\n",
            "tensor(0.7611, device='cuda:0', grad_fn=<DivBackward0>)\n",
            "tensor(0.7740, device='cuda:0', grad_fn=<DivBackward0>)\n",
            "tensor(0.7726, device='cuda:0', grad_fn=<DivBackward0>)\n",
            "tensor(0.7720, device='cuda:0', grad_fn=<DivBackward0>)\n",
            "tensor(0.7692, device='cuda:0', grad_fn=<DivBackward0>)\n",
            "tensor(0.7843, device='cuda:0', grad_fn=<DivBackward0>)\n",
            "tensor(0.7677, device='cuda:0', grad_fn=<DivBackward0>)\n",
            "tensor(0.7812, device='cuda:0', grad_fn=<DivBackward0>)\n",
            "tensor(0.7801, device='cuda:0', grad_fn=<DivBackward0>)\n",
            "tensor(0.7813, device='cuda:0', grad_fn=<DivBackward0>)\n",
            "tensor(0.7847, device='cuda:0', grad_fn=<DivBackward0>)\n",
            "tensor(0.7925, device='cuda:0', grad_fn=<DivBackward0>)\n",
            "tensor(0.7896, device='cuda:0', grad_fn=<DivBackward0>)\n",
            "tensor(0.7842, device='cuda:0', grad_fn=<DivBackward0>)\n",
            "tensor(0.7880, device='cuda:0', grad_fn=<DivBackward0>)\n",
            "tensor(0.7865, device='cuda:0', grad_fn=<DivBackward0>)\n",
            "tensor(0.7961, device='cuda:0', grad_fn=<DivBackward0>)\n",
            "tensor(0.7956, device='cuda:0', grad_fn=<DivBackward0>)\n",
            "tensor(0.7905, device='cuda:0', grad_fn=<DivBackward0>)\n",
            "tensor(0.8008, device='cuda:0', grad_fn=<DivBackward0>)\n",
            "tensor(0.8035, device='cuda:0', grad_fn=<DivBackward0>)\n",
            "tensor(0.8118, device='cuda:0', grad_fn=<DivBackward0>)\n",
            "tensor(0.7961, device='cuda:0', grad_fn=<DivBackward0>)\n",
            "tensor(0.7988, device='cuda:0', grad_fn=<DivBackward0>)\n",
            "tensor(0.8100, device='cuda:0', grad_fn=<DivBackward0>)\n",
            "tensor(0.7986, device='cuda:0', grad_fn=<DivBackward0>)\n",
            "\n",
            "Epoch:  1  G_loss= 2.976396322250366  D_loss= 216.76222229003906  time elapsed= 45.63711185057958\n"
          ],
          "name": "stdout"
        },
        {
          "output_type": "display_data",
          "data": {
            "application/vnd.jupyter.widget-view+json": {
              "model_id": "66a26864bbf04b7f95f826a5f150adbe",
              "version_minor": 0,
              "version_major": 2
            },
            "text/plain": [
              "HBox(children=(FloatProgress(value=0.0, max=32.0), HTML(value='')))"
            ]
          },
          "metadata": {
            "tags": []
          }
        },
        {
          "output_type": "stream",
          "text": [
            "tensor(0.8144, device='cuda:0', grad_fn=<DivBackward0>)\n",
            "tensor(0.8114, device='cuda:0', grad_fn=<DivBackward0>)\n",
            "tensor(0.8174, device='cuda:0', grad_fn=<DivBackward0>)\n",
            "tensor(0.8066, device='cuda:0', grad_fn=<DivBackward0>)\n",
            "tensor(0.8172, device='cuda:0', grad_fn=<DivBackward0>)\n",
            "tensor(0.8057, device='cuda:0', grad_fn=<DivBackward0>)\n",
            "tensor(0.7988, device='cuda:0', grad_fn=<DivBackward0>)\n",
            "tensor(0.8191, device='cuda:0', grad_fn=<DivBackward0>)\n",
            "tensor(0.8201, device='cuda:0', grad_fn=<DivBackward0>)\n",
            "tensor(0.8130, device='cuda:0', grad_fn=<DivBackward0>)\n",
            "tensor(0.8120, device='cuda:0', grad_fn=<DivBackward0>)\n",
            "tensor(0.8269, device='cuda:0', grad_fn=<DivBackward0>)\n",
            "tensor(0.8024, device='cuda:0', grad_fn=<DivBackward0>)\n",
            "tensor(0.8182, device='cuda:0', grad_fn=<DivBackward0>)\n",
            "tensor(0.8129, device='cuda:0', grad_fn=<DivBackward0>)\n",
            "tensor(0.8141, device='cuda:0', grad_fn=<DivBackward0>)\n",
            "tensor(0.8166, device='cuda:0', grad_fn=<DivBackward0>)\n",
            "tensor(0.8247, device='cuda:0', grad_fn=<DivBackward0>)\n",
            "tensor(0.8200, device='cuda:0', grad_fn=<DivBackward0>)\n",
            "tensor(0.8104, device='cuda:0', grad_fn=<DivBackward0>)\n",
            "tensor(0.8130, device='cuda:0', grad_fn=<DivBackward0>)\n",
            "tensor(0.8085, device='cuda:0', grad_fn=<DivBackward0>)\n",
            "tensor(0.8172, device='cuda:0', grad_fn=<DivBackward0>)\n",
            "tensor(0.8121, device='cuda:0', grad_fn=<DivBackward0>)\n",
            "tensor(0.8050, device='cuda:0', grad_fn=<DivBackward0>)\n",
            "tensor(0.8141, device='cuda:0', grad_fn=<DivBackward0>)\n",
            "tensor(0.8122, device='cuda:0', grad_fn=<DivBackward0>)\n",
            "tensor(0.8226, device='cuda:0', grad_fn=<DivBackward0>)\n",
            "tensor(0.8048, device='cuda:0', grad_fn=<DivBackward0>)\n",
            "tensor(0.8095, device='cuda:0', grad_fn=<DivBackward0>)\n",
            "tensor(0.8200, device='cuda:0', grad_fn=<DivBackward0>)\n",
            "tensor(0.8025, device='cuda:0', grad_fn=<DivBackward0>)\n",
            "\n",
            "Epoch:  2  G_loss= 0.016359159722924232  D_loss= 287.40118408203125  time elapsed= 45.74581897656123\n"
          ],
          "name": "stdout"
        },
        {
          "output_type": "display_data",
          "data": {
            "application/vnd.jupyter.widget-view+json": {
              "model_id": "9d6f47ad2e394bc08a57b90ac09f976e",
              "version_minor": 0,
              "version_major": 2
            },
            "text/plain": [
              "HBox(children=(FloatProgress(value=0.0, max=32.0), HTML(value='')))"
            ]
          },
          "metadata": {
            "tags": []
          }
        },
        {
          "output_type": "stream",
          "text": [
            "tensor(0.8201, device='cuda:0', grad_fn=<DivBackward0>)\n",
            "tensor(0.8144, device='cuda:0', grad_fn=<DivBackward0>)\n",
            "tensor(0.8200, device='cuda:0', grad_fn=<DivBackward0>)\n"
          ],
          "name": "stdout"
        },
        {
          "output_type": "error",
          "ename": "KeyboardInterrupt",
          "evalue": "ignored",
          "traceback": [
            "\u001b[0;31m---------------------------------------------------------------------------\u001b[0m",
            "\u001b[0;31mKeyboardInterrupt\u001b[0m                         Traceback (most recent call last)",
            "\u001b[0;32m<ipython-input-10-e88cf1dc5a0f>\u001b[0m in \u001b[0;36m<module>\u001b[0;34m()\u001b[0m\n\u001b[1;32m     15\u001b[0m         \u001b[0mrunning_d_error\u001b[0m\u001b[0;34m+=\u001b[0m\u001b[0md_error\u001b[0m\u001b[0;34m\u001b[0m\u001b[0;34m\u001b[0m\u001b[0m\n\u001b[1;32m     16\u001b[0m         \u001b[0mfake_data_1\u001b[0m\u001b[0;34m=\u001b[0m\u001b[0mG_\u001b[0m\u001b[0;34m(\u001b[0m\u001b[0mnoise\u001b[0m\u001b[0;34m(\u001b[0m\u001b[0mbatchsize\u001b[0m\u001b[0;34m,\u001b[0m\u001b[0min_vect_size\u001b[0m\u001b[0;34m,\u001b[0m\u001b[0mdevice\u001b[0m\u001b[0;34m)\u001b[0m\u001b[0;34m)\u001b[0m\u001b[0;34m\u001b[0m\u001b[0;34m\u001b[0m\u001b[0m\n\u001b[0;32m---> 17\u001b[0;31m         \u001b[0mrunning_g_error\u001b[0m\u001b[0;34m+=\u001b[0m\u001b[0mtrain_generator\u001b[0m\u001b[0;34m(\u001b[0m\u001b[0mg_optimizer\u001b[0m\u001b[0;34m,\u001b[0m\u001b[0mfake_data_1\u001b[0m\u001b[0;34m,\u001b[0m\u001b[0mdevice\u001b[0m\u001b[0;34m)\u001b[0m\u001b[0;34m\u001b[0m\u001b[0;34m\u001b[0m\u001b[0m\n\u001b[0m\u001b[1;32m     18\u001b[0m         \u001b[0;32mdel\u001b[0m \u001b[0mmods\u001b[0m\u001b[0;34m\u001b[0m\u001b[0;34m\u001b[0m\u001b[0m\n\u001b[1;32m     19\u001b[0m         \u001b[0;32mdel\u001b[0m \u001b[0mreal_data\u001b[0m\u001b[0;34m\u001b[0m\u001b[0;34m\u001b[0m\u001b[0m\n",
            "\u001b[0;32m<ipython-input-9-06b4eb2314e8>\u001b[0m in \u001b[0;36mtrain_generator\u001b[0;34m(optimizer, fake_data, device)\u001b[0m\n\u001b[1;32m     20\u001b[0m   \u001b[0moptimizer\u001b[0m\u001b[0;34m.\u001b[0m\u001b[0mzero_grad\u001b[0m\u001b[0;34m(\u001b[0m\u001b[0;34m)\u001b[0m\u001b[0;34m\u001b[0m\u001b[0;34m\u001b[0m\u001b[0m\n\u001b[1;32m     21\u001b[0m   \u001b[0mprediction\u001b[0m \u001b[0;34m=\u001b[0m \u001b[0mD_\u001b[0m\u001b[0;34m(\u001b[0m\u001b[0mfake_data\u001b[0m\u001b[0;34m)\u001b[0m\u001b[0;34m\u001b[0m\u001b[0;34m\u001b[0m\u001b[0m\n\u001b[0;32m---> 22\u001b[0;31m   \u001b[0merror\u001b[0m \u001b[0;34m=\u001b[0m \u001b[0mcriterion\u001b[0m\u001b[0;34m(\u001b[0m\u001b[0mprediction\u001b[0m\u001b[0;34m,\u001b[0m\u001b[0mtorch\u001b[0m\u001b[0;34m.\u001b[0m\u001b[0mones\u001b[0m\u001b[0;34m(\u001b[0m\u001b[0;34m(\u001b[0m\u001b[0mfake_data\u001b[0m\u001b[0;34m.\u001b[0m\u001b[0msize\u001b[0m\u001b[0;34m(\u001b[0m\u001b[0;36m0\u001b[0m\u001b[0;34m)\u001b[0m\u001b[0;34m,\u001b[0m\u001b[0;36m1\u001b[0m\u001b[0;34m)\u001b[0m\u001b[0;34m)\u001b[0m\u001b[0;34m.\u001b[0m\u001b[0mto\u001b[0m\u001b[0;34m(\u001b[0m\u001b[0mdevice\u001b[0m\u001b[0;34m)\u001b[0m\u001b[0;34m)\u001b[0m\u001b[0;34m\u001b[0m\u001b[0;34m\u001b[0m\u001b[0m\n\u001b[0m\u001b[1;32m     23\u001b[0m   \u001b[0merror\u001b[0m\u001b[0;34m.\u001b[0m\u001b[0mbackward\u001b[0m\u001b[0;34m(\u001b[0m\u001b[0;34m)\u001b[0m\u001b[0;34m\u001b[0m\u001b[0;34m\u001b[0m\u001b[0m\n\u001b[1;32m     24\u001b[0m   \u001b[0moptimizer\u001b[0m\u001b[0;34m.\u001b[0m\u001b[0mstep\u001b[0m\u001b[0;34m(\u001b[0m\u001b[0;34m)\u001b[0m\u001b[0;34m\u001b[0m\u001b[0;34m\u001b[0m\u001b[0m\n",
            "\u001b[0;31mKeyboardInterrupt\u001b[0m: "
          ]
        }
      ]
    },
    {
      "cell_type": "code",
      "metadata": {
        "id": "IUrX-NnB4Vb_",
        "colab_type": "code",
        "colab": {
          "base_uri": "https://localhost:8080/",
          "height": 248
        },
        "outputId": "011bacf2-d867-4f17-fab8-440702531351"
      },
      "source": [
        "fig = plt.figure()\n",
        "ax = fig.gca(projection='3d')\n",
        "ax.voxels(G_(noise(1,in_vect_size,device)).squeeze().detach().cpu().numpy(),facecolors='red')\n",
        "fig.savefig('fig{0}.png'.format(epoch+1))\n",
        "plt.show()"
      ],
      "execution_count": 11,
      "outputs": [
        {
          "output_type": "display_data",
          "data": {
            "image/png": "[encoded data removed]",
            "text/plain": [
              "<Figure size 432x288 with 1 Axes>"
            ]
          },
          "metadata": {
            "tags": [],
            "needs_background": "light"
          }
        }
      ]
    },
    {
      "cell_type": "code",
      "metadata": {
        "id": "_hTMmjlJ4Zq3",
        "colab_type": "code",
        "colab": {}
      },
      "source": [
        ""
      ],
      "execution_count": 0,
      "outputs": []
    }
  ]
}