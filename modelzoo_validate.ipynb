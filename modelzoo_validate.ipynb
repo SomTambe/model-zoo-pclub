{
  "nbformat": 4,
  "nbformat_minor": 0,
  "metadata": {
    "colab": {
      "name": "modelzoo_validate.ipynb",
      "provenance": [],
      "collapsed_sections": []
    },
    "kernelspec": {
      "name": "python3",
      "display_name": "Python 3"
    },
    "accelerator": "GPU"
  },
  "cells": [
    {
      "cell_type": "code",
      "metadata": {
        "id": "5stFXGkVWxep",
        "colab_type": "code",
        "colab": {
          "base_uri": "https://localhost:8080/",
          "height": 136
        },
        "outputId": "b6c78ed8-67bd-4834-e4d0-5975fb04a20b"
      },
      "source": [
        "!rm -rf ./model-zoo/\n",
        "# !rm -rf ./celeba/\n",
        "!git clone https://github.com/SomTambe/model-zoo"
      ],
      "execution_count": 14,
      "outputs": [
        {
          "output_type": "stream",
          "text": [
            "Cloning into 'model-zoo'...\n",
            "remote: Enumerating objects: 153, done.\u001b[K\n",
            "remote: Counting objects:   0% (1/153)\u001b[K\rremote: Counting objects:   1% (2/153)\u001b[K\rremote: Counting objects:   2% (4/153)\u001b[K\rremote: Counting objects:   3% (5/153)\u001b[K\rremote: Counting objects:   4% (7/153)\u001b[K\rremote: Counting objects:   5% (8/153)\u001b[K\rremote: Counting objects:   6% (10/153)\u001b[K\rremote: Counting objects:   7% (11/153)\u001b[K\rremote: Counting objects:   8% (13/153)\u001b[K\rremote: Counting objects:   9% (14/153)\u001b[K\rremote: Counting objects:  10% (16/153)\u001b[K\rremote: Counting objects:  11% (17/153)\u001b[K\rremote: Counting objects:  12% (19/153)\u001b[K\rremote: Counting objects:  13% (20/153)\u001b[K\rremote: Counting objects:  14% (22/153)\u001b[K\rremote: Counting objects:  15% (23/153)\u001b[K\rremote: Counting objects:  16% (25/153)\u001b[K\rremote: Counting objects:  17% (27/153)\u001b[K\rremote: Counting objects:  18% (28/153)\u001b[K\rremote: Counting objects:  19% (30/153)\u001b[K\rremote: Counting objects:  20% (31/153)\u001b[K\rremote: Counting objects:  21% (33/153)\u001b[K\rremote: Counting objects:  22% (34/153)\u001b[K\rremote: Counting objects:  23% (36/153)\u001b[K\rremote: Counting objects:  24% (37/153)\u001b[K\rremote: Counting objects:  25% (39/153)\u001b[K\rremote: Counting objects:  26% (40/153)\u001b[K\rremote: Counting objects:  27% (42/153)\u001b[K\rremote: Counting objects:  28% (43/153)\u001b[K\rremote: Counting objects:  29% (45/153)\u001b[K\rremote: Counting objects:  30% (46/153)\u001b[K\rremote: Counting objects:  31% (48/153)\u001b[K\rremote: Counting objects:  32% (49/153)\u001b[K\rremote: Counting objects:  33% (51/153)\u001b[K\rremote: Counting objects:  34% (53/153)\u001b[K\rremote: Counting objects:  35% (54/153)\u001b[K\rremote: Counting objects:  36% (56/153)\u001b[K\rremote: Counting objects:  37% (57/153)\u001b[K\rremote: Counting objects:  38% (59/153)\u001b[K\rremote: Counting objects:  39% (60/153)\u001b[K\rremote: Counting objects:  40% (62/153)\u001b[K\rremote: Counting objects:  41% (63/153)\u001b[K\rremote: Counting objects:  42% (65/153)\u001b[K\rremote: Counting objects:  43% (66/153)\u001b[K\rremote: Counting objects:  44% (68/153)\u001b[K\rremote: Counting objects:  45% (69/153)\u001b[K\rremote: Counting objects:  46% (71/153)\u001b[K\rremote: Counting objects:  47% (72/153)\u001b[K\rremote: Counting objects:  48% (74/153)\u001b[K\rremote: Counting objects:  49% (75/153)\u001b[K\rremote: Counting objects:  50% (77/153)\u001b[K\rremote: Counting objects:  51% (79/153)\u001b[K\rremote: Counting objects:  52% (80/153)\u001b[K\rremote: Counting objects:  53% (82/153)\u001b[K\rremote: Counting objects:  54% (83/153)\u001b[K\rremote: Counting objects:  55% (85/153)\u001b[K\rremote: Counting objects:  56% (86/153)\u001b[K\rremote: Counting objects:  57% (88/153)\u001b[K\rremote: Counting objects:  58% (89/153)\u001b[K\rremote: Counting objects:  59% (91/153)\u001b[K\rremote: Counting objects:  60% (92/153)\u001b[K\rremote: Counting objects:  61% (94/153)\u001b[K\rremote: Counting objects:  62% (95/153)\u001b[K\rremote: Counting objects:  63% (97/153)\u001b[K\rremote: Counting objects:  64% (98/153)\u001b[K\rremote: Counting objects:  65% (100/153)\u001b[K\rremote: Counting objects:  66% (101/153)\u001b[K\rremote: Counting objects:  67% (103/153)\u001b[K\rremote: Counting objects:  68% (105/153)\u001b[K\rremote: Counting objects:  69% (106/153)\u001b[K\rremote: Counting objects:  70% (108/153)\u001b[K\rremote: Counting objects:  71% (109/153)\u001b[K\rremote: Counting objects:  72% (111/153)\u001b[K\rremote: Counting objects:  73% (112/153)\u001b[K\rremote: Counting objects:  74% (114/153)\u001b[K\rremote: Counting objects:  75% (115/153)\u001b[K\rremote: Counting objects:  76% (117/153)\u001b[K\rremote: Counting objects:  77% (118/153)\u001b[K\rremote: Counting objects:  78% (120/153)\u001b[K\rremote: Counting objects:  79% (121/153)\u001b[K\rremote: Counting objects:  80% (123/153)\u001b[K\rremote: Counting objects:  81% (124/153)\u001b[K\rremote: Counting objects:  82% (126/153)\u001b[K\rremote: Counting objects:  83% (127/153)\u001b[K\rremote: Counting objects:  84% (129/153)\u001b[K\rremote: Counting objects:  85% (131/153)\u001b[K\rremote: Counting objects:  86% (132/153)\u001b[K\rremote: Counting objects:  87% (134/153)\u001b[K\rremote: Counting objects:  88% (135/153)\u001b[K\rremote: Counting objects:  89% (137/153)\u001b[K\rremote: Counting objects:  90% (138/153)\u001b[K\rremote: Counting objects:  91% (140/153)\u001b[K\rremote: Counting objects:  92% (141/153)\u001b[K\rremote: Counting objects:  93% (143/153)\u001b[K\rremote: Counting objects:  94% (144/153)\u001b[K\rremote: Counting objects:  95% (146/153)\u001b[K\rremote: Counting objects:  96% (147/153)\u001b[K\rremote: Counting objects:  97% (149/153)\u001b[K\rremote: Counting objects:  98% (150/153)\u001b[K\rremote: Counting objects:  99% (152/153)\u001b[K\rremote: Counting objects: 100% (153/153)\u001b[K\rremote: Counting objects: 100% (153/153), done.\u001b[K\n",
            "remote: Compressing objects: 100% (103/103), done.\u001b[K\n",
            "remote: Total 1046 (delta 78), reused 86 (delta 40), pack-reused 893\n",
            "Receiving objects: 100% (1046/1046), 48.66 MiB | 31.20 MiB/s, done.\n",
            "Resolving deltas: 100% (325/325), done.\n"
          ],
          "name": "stdout"
        }
      ]
    },
    {
      "cell_type": "code",
      "metadata": {
        "id": "72hkw7z8XA3D",
        "colab_type": "code",
        "colab": {
          "base_uri": "https://localhost:8080/",
          "height": 1000
        },
        "outputId": "337c1395-ae6a-4d7b-8faf-d0a7e9d44fef"
      },
      "source": [
        "!python ./model-zoo/generative_models/StarGAN_PyTorch/main.py --directory \"./\" --epochs 20 --batch_size 128 --download \"False\""
      ],
      "execution_count": 23,
      "outputs": [
        {
          "output_type": "stream",
          "text": [
            "Using downloaded and verified file: ./celeba/img_align_celeba.zip\n",
            "Using downloaded and verified file: ./celeba/list_attr_celeba.txt\n",
            "Using downloaded and verified file: ./celeba/identity_CelebA.txt\n",
            "Using downloaded and verified file: ./celeba/list_bbox_celeba.txt\n",
            "Using downloaded and verified file: ./celeba/list_landmarks_align_celeba.txt\n",
            "Using downloaded and verified file: ./celeba/list_eval_partition.txt\n",
            "  0% 4/1272 [00:04<24:52,  1.18s/it][1/20] iter:5 gen_loss:11.2153 dis_loss:3.4654 elapsed:1.9519\n",
            "  1% 9/1272 [00:11<25:49,  1.23s/it][1/20] iter:10 gen_loss:11.1699 dis_loss:3.4656 elapsed:2.0002\n",
            "  1% 14/1272 [00:18<26:21,  1.26s/it][1/20] iter:15 gen_loss:11.2048 dis_loss:3.4656 elapsed:2.0326\n",
            "  1% 19/1272 [00:25<26:49,  1.28s/it][1/20] iter:20 gen_loss:11.2488 dis_loss:3.4655 elapsed:2.0499\n",
            "  2% 24/1272 [00:32<26:48,  1.29s/it][1/20] iter:25 gen_loss:11.1731 dis_loss:3.4656 elapsed:2.0811\n",
            "  2% 29/1272 [00:39<27:05,  1.31s/it][1/20] iter:30 gen_loss:11.2738 dis_loss:3.4655 elapsed:2.0978\n",
            "  3% 34/1272 [00:46<27:08,  1.32s/it][1/20] iter:35 gen_loss:11.2434 dis_loss:3.4653 elapsed:2.1341\n",
            "  3% 39/1272 [00:54<27:27,  1.34s/it][1/20] iter:40 gen_loss:11.2628 dis_loss:3.4652 elapsed:2.1903\n",
            "  3% 44/1272 [01:01<27:59,  1.37s/it][1/20] iter:45 gen_loss:11.2292 dis_loss:3.4654 elapsed:2.2435\n",
            "  4% 49/1272 [01:09<28:30,  1.40s/it][1/20] iter:50 gen_loss:11.1805 dis_loss:3.4654 elapsed:2.2828\n",
            "  4% 54/1272 [01:16<28:40,  1.41s/it][1/20] iter:55 gen_loss:11.2230 dis_loss:3.4654 elapsed:2.3193\n",
            "  5% 59/1272 [01:24<29:10,  1.44s/it][1/20] iter:60 gen_loss:11.2633 dis_loss:3.4652 elapsed:2.3753\n",
            "  5% 64/1272 [01:32<29:43,  1.48s/it][1/20] iter:65 gen_loss:11.2633 dis_loss:3.4653 elapsed:2.4383\n",
            "  5% 69/1272 [01:41<30:14,  1.51s/it][1/20] iter:70 gen_loss:11.1792 dis_loss:3.4653 elapsed:2.4998\n",
            "  6% 74/1272 [01:49<31:05,  1.56s/it][1/20] iter:75 gen_loss:11.1482 dis_loss:3.4652 elapsed:2.5710\n",
            "  6% 79/1272 [01:58<31:46,  1.60s/it][1/20] iter:80 gen_loss:11.3018 dis_loss:3.4651 elapsed:2.6053\n",
            "  7% 84/1272 [02:06<31:19,  1.58s/it][1/20] iter:85 gen_loss:11.2099 dis_loss:3.4653 elapsed:2.5256\n",
            "  7% 89/1272 [02:15<30:31,  1.55s/it][1/20] iter:90 gen_loss:11.1647 dis_loss:3.4652 elapsed:2.4654\n",
            "  7% 94/1272 [02:23<29:46,  1.52s/it][1/20] iter:95 gen_loss:11.2860 dis_loss:3.4652 elapsed:2.4488\n",
            "  8% 99/1272 [02:31<29:20,  1.50s/it][1/20] iter:100 gen_loss:11.2491 dis_loss:3.4654 elapsed:2.4264\n",
            "  8% 104/1272 [02:40<29:02,  1.49s/it][1/20] iter:105 gen_loss:11.1545 dis_loss:3.4653 elapsed:2.4205\n",
            "  9% 109/1272 [02:48<28:51,  1.49s/it][1/20] iter:110 gen_loss:11.1891 dis_loss:3.4650 elapsed:2.4237\n",
            "  9% 114/1272 [02:56<28:58,  1.50s/it][1/20] iter:115 gen_loss:11.1817 dis_loss:3.4653 elapsed:2.4604\n",
            "  9% 119/1272 [03:04<29:06,  1.52s/it][1/20] iter:120 gen_loss:11.2107 dis_loss:3.4651 elapsed:2.4722\n",
            " 10% 124/1272 [03:12<29:16,  1.53s/it][1/20] iter:125 gen_loss:11.2283 dis_loss:3.4650 elapsed:2.5036\n",
            " 10% 129/1272 [03:21<29:12,  1.53s/it][1/20] iter:130 gen_loss:11.2903 dis_loss:3.4649 elapsed:2.4929\n",
            " 11% 134/1272 [03:29<29:11,  1.54s/it][1/20] iter:135 gen_loss:11.2035 dis_loss:3.4652 elapsed:2.5158\n",
            " 11% 139/1272 [03:38<28:59,  1.54s/it][1/20] iter:140 gen_loss:11.2352 dis_loss:3.4647 elapsed:2.5002\n",
            " 11% 144/1272 [03:46<28:55,  1.54s/it][1/20] iter:145 gen_loss:11.2028 dis_loss:3.4650 elapsed:2.4903\n",
            " 12% 149/1272 [03:54<28:30,  1.52s/it][1/20] iter:150 gen_loss:11.1912 dis_loss:3.4649 elapsed:2.4613\n",
            " 12% 154/1272 [04:03<28:18,  1.52s/it][1/20] iter:155 gen_loss:11.2657 dis_loss:3.4648 elapsed:2.4718\n",
            " 12% 159/1272 [04:11<28:09,  1.52s/it][1/20] iter:160 gen_loss:11.2095 dis_loss:3.4650 elapsed:2.4640\n",
            " 13% 164/1272 [04:19<28:00,  1.52s/it][1/20] iter:165 gen_loss:11.2110 dis_loss:3.4649 elapsed:2.4855\n",
            " 13% 169/1272 [04:27<27:57,  1.52s/it][1/20] iter:170 gen_loss:11.2627 dis_loss:3.4646 elapsed:2.4778\n",
            " 14% 174/1272 [04:36<28:01,  1.53s/it][1/20] iter:175 gen_loss:11.2364 dis_loss:3.4649 elapsed:2.4820\n",
            " 14% 179/1272 [04:44<28:02,  1.54s/it][1/20] iter:180 gen_loss:11.2501 dis_loss:3.4646 elapsed:2.4837\n",
            " 14% 184/1272 [04:53<28:02,  1.55s/it][1/20] iter:185 gen_loss:11.2007 dis_loss:3.4647 elapsed:2.5124\n",
            " 15% 189/1272 [05:01<27:40,  1.53s/it][1/20] iter:190 gen_loss:11.2388 dis_loss:3.4646 elapsed:2.4905\n",
            " 15% 194/1272 [05:09<27:41,  1.54s/it][1/20] iter:195 gen_loss:11.1797 dis_loss:3.4645 elapsed:2.4993\n",
            " 16% 199/1272 [05:18<27:21,  1.53s/it][1/20] iter:200 gen_loss:11.2140 dis_loss:3.4648 elapsed:2.4946\n",
            " 16% 204/1272 [05:26<27:21,  1.54s/it][1/20] iter:205 gen_loss:11.2060 dis_loss:3.4646 elapsed:2.5041\n",
            " 16% 209/1272 [05:35<27:17,  1.54s/it][1/20] iter:210 gen_loss:11.1721 dis_loss:3.4648 elapsed:2.4788\n",
            " 17% 214/1272 [05:43<27:04,  1.54s/it][1/20] iter:215 gen_loss:11.1793 dis_loss:3.4647 elapsed:2.4927\n",
            " 17% 219/1272 [05:51<26:43,  1.52s/it][1/20] iter:220 gen_loss:11.1934 dis_loss:3.4645 elapsed:2.4712\n",
            " 18% 224/1272 [06:00<26:35,  1.52s/it][1/20] iter:225 gen_loss:11.2450 dis_loss:3.4644 elapsed:2.4708\n",
            " 18% 229/1272 [06:08<26:28,  1.52s/it][1/20] iter:230 gen_loss:11.2165 dis_loss:3.4645 elapsed:2.4669\n",
            " 18% 234/1272 [06:16<26:19,  1.52s/it][1/20] iter:235 gen_loss:11.2347 dis_loss:3.4644 elapsed:2.4871\n",
            " 19% 239/1272 [06:25<26:22,  1.53s/it][1/20] iter:240 gen_loss:11.1902 dis_loss:3.4647 elapsed:2.4850\n",
            " 19% 244/1272 [06:33<26:09,  1.53s/it][1/20] iter:245 gen_loss:11.2166 dis_loss:3.4643 elapsed:2.4893\n",
            " 20% 249/1272 [06:41<26:05,  1.53s/it][1/20] iter:250 gen_loss:11.2479 dis_loss:3.4645 elapsed:2.4999\n",
            " 20% 254/1272 [06:50<26:07,  1.54s/it][1/20] iter:255 gen_loss:11.1907 dis_loss:3.4647 elapsed:2.4957\n",
            " 20% 259/1272 [06:58<26:03,  1.54s/it][1/20] iter:260 gen_loss:11.2125 dis_loss:3.4645 elapsed:2.4859\n",
            " 21% 264/1272 [07:07<25:45,  1.53s/it][1/20] iter:265 gen_loss:11.2170 dis_loss:3.4643 elapsed:2.4706\n",
            " 21% 269/1272 [07:15<25:36,  1.53s/it][1/20] iter:270 gen_loss:11.1495 dis_loss:3.4644 elapsed:2.4804\n",
            " 22% 274/1272 [07:23<25:24,  1.53s/it][1/20] iter:275 gen_loss:11.0949 dis_loss:3.4643 elapsed:2.4805\n",
            " 22% 279/1272 [07:32<25:12,  1.52s/it][1/20] iter:280 gen_loss:11.2255 dis_loss:3.4642 elapsed:2.4778\n",
            " 22% 284/1272 [07:40<25:01,  1.52s/it][1/20] iter:285 gen_loss:11.2205 dis_loss:3.4642 elapsed:2.4755\n",
            " 23% 289/1272 [07:48<24:51,  1.52s/it][1/20] iter:290 gen_loss:11.1525 dis_loss:3.4644 elapsed:2.4770\n",
            " 23% 294/1272 [07:56<24:42,  1.52s/it][1/20] iter:295 gen_loss:11.1908 dis_loss:3.4642 elapsed:2.4912\n",
            " 24% 299/1272 [08:05<24:41,  1.52s/it][1/20] iter:300 gen_loss:11.1886 dis_loss:3.4642 elapsed:2.4668\n",
            " 24% 304/1272 [08:13<24:31,  1.52s/it][1/20] iter:305 gen_loss:11.2189 dis_loss:3.4642 elapsed:2.4712\n",
            " 24% 309/1272 [08:21<24:24,  1.52s/it][1/20] iter:310 gen_loss:11.2232 dis_loss:3.4643 elapsed:2.4873\n",
            " 25% 314/1272 [08:30<24:32,  1.54s/it][1/20] iter:315 gen_loss:11.2493 dis_loss:3.4643 elapsed:2.4904\n",
            " 25% 319/1272 [08:38<24:20,  1.53s/it][1/20] iter:320 gen_loss:11.2619 dis_loss:3.4641 elapsed:2.4832\n",
            " 25% 324/1272 [08:46<24:19,  1.54s/it][1/20] iter:325 gen_loss:11.1147 dis_loss:3.4641 elapsed:2.5099\n",
            " 26% 329/1272 [08:55<24:01,  1.53s/it][1/20] iter:330 gen_loss:11.2035 dis_loss:3.4641 elapsed:2.4787\n",
            " 26% 334/1272 [09:03<23:54,  1.53s/it][1/20] iter:335 gen_loss:11.1178 dis_loss:3.4642 elapsed:2.4901\n",
            " 27% 339/1272 [09:11<23:37,  1.52s/it][1/20] iter:340 gen_loss:11.2013 dis_loss:3.4642 elapsed:2.4860\n",
            " 27% 344/1272 [09:20<23:30,  1.52s/it][1/20] iter:345 gen_loss:11.3068 dis_loss:3.4640 elapsed:2.4913\n",
            " 27% 349/1272 [09:28<23:24,  1.52s/it][1/20] iter:350 gen_loss:11.2548 dis_loss:3.4639 elapsed:2.4830\n",
            " 28% 354/1272 [09:36<23:18,  1.52s/it][1/20] iter:355 gen_loss:11.2164 dis_loss:3.4640 elapsed:2.4873\n",
            " 28% 359/1272 [09:45<23:17,  1.53s/it][1/20] iter:360 gen_loss:11.1993 dis_loss:3.4639 elapsed:2.4852\n",
            " 29% 364/1272 [09:53<23:02,  1.52s/it][1/20] iter:365 gen_loss:11.1450 dis_loss:3.4638 elapsed:2.4810\n",
            " 29% 369/1272 [10:01<22:49,  1.52s/it][1/20] iter:370 gen_loss:11.2279 dis_loss:3.4639 elapsed:2.4837\n",
            " 29% 372/1272 [10:07<24:25,  1.63s/it]Traceback (most recent call last):\n",
            "  File \"./model-zoo/generative_models/StarGAN_PyTorch/main.py\", line 14, in <module>\n",
            "    from utils import *\n",
            "  File \"/content/model-zoo/generative_models/StarGAN_PyTorch/utils.py\", line 3, in <module>\n",
            "    from main import *\n",
            "  File \"/content/model-zoo/generative_models/StarGAN_PyTorch/main.py\", line 119, in <module>\n",
            "    running_d_loss+=loss.item()\n",
            "KeyboardInterrupt\n",
            " 29% 372/1272 [10:08<24:32,  1.64s/it]\n"
          ],
          "name": "stdout"
        },
        {
          "output_type": "error",
          "ename": "KeyboardInterrupt",
          "evalue": "ignored",
          "traceback": [
            "\u001b[0;31m---------------------------------------------------------------------------\u001b[0m",
            "\u001b[0;31mKeyboardInterrupt\u001b[0m                         Traceback (most recent call last)",
            "\u001b[0;32m<ipython-input-23-b7460827f5c0>\u001b[0m in \u001b[0;36m<module>\u001b[0;34m()\u001b[0m\n\u001b[0;32m----> 1\u001b[0;31m \u001b[0mget_ipython\u001b[0m\u001b[0;34m(\u001b[0m\u001b[0;34m)\u001b[0m\u001b[0;34m.\u001b[0m\u001b[0msystem\u001b[0m\u001b[0;34m(\u001b[0m\u001b[0;34m'python ./model-zoo/generative_models/StarGAN_PyTorch/main.py --directory \"./\" --epochs 20 --batch_size 128 --download \"False\"'\u001b[0m\u001b[0;34m)\u001b[0m\u001b[0;34m\u001b[0m\u001b[0;34m\u001b[0m\u001b[0m\n\u001b[0m",
            "\u001b[0;32m/usr/local/lib/python3.6/dist-packages/google/colab/_shell.py\u001b[0m in \u001b[0;36msystem\u001b[0;34m(self, *args, **kwargs)\u001b[0m\n\u001b[1;32m    100\u001b[0m       \u001b[0mkwargs\u001b[0m\u001b[0;34m.\u001b[0m\u001b[0mupdate\u001b[0m\u001b[0;34m(\u001b[0m\u001b[0;34m{\u001b[0m\u001b[0;34m'also_return_output'\u001b[0m\u001b[0;34m:\u001b[0m \u001b[0;32mTrue\u001b[0m\u001b[0;34m}\u001b[0m\u001b[0;34m)\u001b[0m\u001b[0;34m\u001b[0m\u001b[0;34m\u001b[0m\u001b[0m\n\u001b[1;32m    101\u001b[0m \u001b[0;34m\u001b[0m\u001b[0m\n\u001b[0;32m--> 102\u001b[0;31m     \u001b[0moutput\u001b[0m \u001b[0;34m=\u001b[0m \u001b[0m_system_commands\u001b[0m\u001b[0;34m.\u001b[0m\u001b[0m_system_compat\u001b[0m\u001b[0;34m(\u001b[0m\u001b[0mself\u001b[0m\u001b[0;34m,\u001b[0m \u001b[0;34m*\u001b[0m\u001b[0margs\u001b[0m\u001b[0;34m,\u001b[0m \u001b[0;34m**\u001b[0m\u001b[0mkwargs\u001b[0m\u001b[0;34m)\u001b[0m  \u001b[0;31m# pylint:disable=protected-access\u001b[0m\u001b[0;34m\u001b[0m\u001b[0;34m\u001b[0m\u001b[0m\n\u001b[0m\u001b[1;32m    103\u001b[0m \u001b[0;34m\u001b[0m\u001b[0m\n\u001b[1;32m    104\u001b[0m     \u001b[0;32mif\u001b[0m \u001b[0mpip_warn\u001b[0m\u001b[0;34m:\u001b[0m\u001b[0;34m\u001b[0m\u001b[0;34m\u001b[0m\u001b[0m\n",
            "\u001b[0;32m/usr/local/lib/python3.6/dist-packages/google/colab/_system_commands.py\u001b[0m in \u001b[0;36m_system_compat\u001b[0;34m(shell, cmd, also_return_output)\u001b[0m\n\u001b[1;32m    436\u001b[0m   \u001b[0;31m# stack.\u001b[0m\u001b[0;34m\u001b[0m\u001b[0;34m\u001b[0m\u001b[0;34m\u001b[0m\u001b[0m\n\u001b[1;32m    437\u001b[0m   result = _run_command(\n\u001b[0;32m--> 438\u001b[0;31m       shell.var_expand(cmd, depth=2), clear_streamed_output=False)\n\u001b[0m\u001b[1;32m    439\u001b[0m   \u001b[0mshell\u001b[0m\u001b[0;34m.\u001b[0m\u001b[0muser_ns\u001b[0m\u001b[0;34m[\u001b[0m\u001b[0;34m'_exit_code'\u001b[0m\u001b[0;34m]\u001b[0m \u001b[0;34m=\u001b[0m \u001b[0mresult\u001b[0m\u001b[0;34m.\u001b[0m\u001b[0mreturncode\u001b[0m\u001b[0;34m\u001b[0m\u001b[0;34m\u001b[0m\u001b[0m\n\u001b[1;32m    440\u001b[0m   \u001b[0;32mif\u001b[0m \u001b[0;34m-\u001b[0m\u001b[0mresult\u001b[0m\u001b[0;34m.\u001b[0m\u001b[0mreturncode\u001b[0m \u001b[0;32min\u001b[0m \u001b[0m_INTERRUPTED_SIGNALS\u001b[0m\u001b[0;34m:\u001b[0m\u001b[0;34m\u001b[0m\u001b[0;34m\u001b[0m\u001b[0m\n",
            "\u001b[0;32m/usr/local/lib/python3.6/dist-packages/google/colab/_system_commands.py\u001b[0m in \u001b[0;36m_run_command\u001b[0;34m(cmd, clear_streamed_output)\u001b[0m\n\u001b[1;32m    193\u001b[0m       \u001b[0mos\u001b[0m\u001b[0;34m.\u001b[0m\u001b[0mclose\u001b[0m\u001b[0;34m(\u001b[0m\u001b[0mchild_pty\u001b[0m\u001b[0;34m)\u001b[0m\u001b[0;34m\u001b[0m\u001b[0;34m\u001b[0m\u001b[0m\n\u001b[1;32m    194\u001b[0m \u001b[0;34m\u001b[0m\u001b[0m\n\u001b[0;32m--> 195\u001b[0;31m       \u001b[0;32mreturn\u001b[0m \u001b[0m_monitor_process\u001b[0m\u001b[0;34m(\u001b[0m\u001b[0mparent_pty\u001b[0m\u001b[0;34m,\u001b[0m \u001b[0mepoll\u001b[0m\u001b[0;34m,\u001b[0m \u001b[0mp\u001b[0m\u001b[0;34m,\u001b[0m \u001b[0mcmd\u001b[0m\u001b[0;34m,\u001b[0m \u001b[0mupdate_stdin_widget\u001b[0m\u001b[0;34m)\u001b[0m\u001b[0;34m\u001b[0m\u001b[0;34m\u001b[0m\u001b[0m\n\u001b[0m\u001b[1;32m    196\u001b[0m   \u001b[0;32mfinally\u001b[0m\u001b[0;34m:\u001b[0m\u001b[0;34m\u001b[0m\u001b[0;34m\u001b[0m\u001b[0m\n\u001b[1;32m    197\u001b[0m     \u001b[0mepoll\u001b[0m\u001b[0;34m.\u001b[0m\u001b[0mclose\u001b[0m\u001b[0;34m(\u001b[0m\u001b[0;34m)\u001b[0m\u001b[0;34m\u001b[0m\u001b[0;34m\u001b[0m\u001b[0m\n",
            "\u001b[0;32m/usr/lib/python3.6/contextlib.py\u001b[0m in \u001b[0;36m__exit__\u001b[0;34m(self, type, value, traceback)\u001b[0m\n\u001b[1;32m     86\u001b[0m         \u001b[0;32mif\u001b[0m \u001b[0mtype\u001b[0m \u001b[0;32mis\u001b[0m \u001b[0;32mNone\u001b[0m\u001b[0;34m:\u001b[0m\u001b[0;34m\u001b[0m\u001b[0;34m\u001b[0m\u001b[0m\n\u001b[1;32m     87\u001b[0m             \u001b[0;32mtry\u001b[0m\u001b[0;34m:\u001b[0m\u001b[0;34m\u001b[0m\u001b[0;34m\u001b[0m\u001b[0m\n\u001b[0;32m---> 88\u001b[0;31m                 \u001b[0mnext\u001b[0m\u001b[0;34m(\u001b[0m\u001b[0mself\u001b[0m\u001b[0;34m.\u001b[0m\u001b[0mgen\u001b[0m\u001b[0;34m)\u001b[0m\u001b[0;34m\u001b[0m\u001b[0;34m\u001b[0m\u001b[0m\n\u001b[0m\u001b[1;32m     89\u001b[0m             \u001b[0;32mexcept\u001b[0m \u001b[0mStopIteration\u001b[0m\u001b[0;34m:\u001b[0m\u001b[0;34m\u001b[0m\u001b[0;34m\u001b[0m\u001b[0m\n\u001b[1;32m     90\u001b[0m                 \u001b[0;32mreturn\u001b[0m \u001b[0;32mFalse\u001b[0m\u001b[0;34m\u001b[0m\u001b[0;34m\u001b[0m\u001b[0m\n",
            "\u001b[0;32m/usr/local/lib/python3.6/dist-packages/google/colab/_system_commands.py\u001b[0m in \u001b[0;36m_display_stdin_widget\u001b[0;34m(delay_millis)\u001b[0m\n\u001b[1;32m    353\u001b[0m \u001b[0;34m\u001b[0m\u001b[0m\n\u001b[1;32m    354\u001b[0m   \u001b[0mhide_args\u001b[0m \u001b[0;34m=\u001b[0m \u001b[0;34m[\u001b[0m\u001b[0;34m'cell_remove_stdin'\u001b[0m\u001b[0;34m,\u001b[0m \u001b[0;34m{\u001b[0m\u001b[0;34m}\u001b[0m\u001b[0;34m]\u001b[0m\u001b[0;34m\u001b[0m\u001b[0;34m\u001b[0m\u001b[0m\n\u001b[0;32m--> 355\u001b[0;31m   \u001b[0m_message\u001b[0m\u001b[0;34m.\u001b[0m\u001b[0mblocking_request\u001b[0m\u001b[0;34m(\u001b[0m\u001b[0;34m*\u001b[0m\u001b[0mhide_args\u001b[0m\u001b[0;34m,\u001b[0m \u001b[0mparent\u001b[0m\u001b[0;34m=\u001b[0m\u001b[0mshell\u001b[0m\u001b[0;34m.\u001b[0m\u001b[0mparent_header\u001b[0m\u001b[0;34m)\u001b[0m\u001b[0;34m\u001b[0m\u001b[0;34m\u001b[0m\u001b[0m\n\u001b[0m\u001b[1;32m    356\u001b[0m \u001b[0;34m\u001b[0m\u001b[0m\n\u001b[1;32m    357\u001b[0m \u001b[0;34m\u001b[0m\u001b[0m\n",
            "\u001b[0;32m/usr/local/lib/python3.6/dist-packages/google/colab/_message.py\u001b[0m in \u001b[0;36mblocking_request\u001b[0;34m(request_type, request, timeout_sec, parent)\u001b[0m\n\u001b[1;32m    169\u001b[0m   \u001b[0;31m# unique.\u001b[0m\u001b[0;34m\u001b[0m\u001b[0;34m\u001b[0m\u001b[0;34m\u001b[0m\u001b[0m\n\u001b[1;32m    170\u001b[0m   \u001b[0mrequest_id\u001b[0m \u001b[0;34m=\u001b[0m \u001b[0msend_request\u001b[0m\u001b[0;34m(\u001b[0m\u001b[0mrequest_type\u001b[0m\u001b[0;34m,\u001b[0m \u001b[0mrequest\u001b[0m\u001b[0;34m,\u001b[0m \u001b[0mparent\u001b[0m\u001b[0;34m=\u001b[0m\u001b[0mparent\u001b[0m\u001b[0;34m)\u001b[0m\u001b[0;34m\u001b[0m\u001b[0;34m\u001b[0m\u001b[0m\n\u001b[0;32m--> 171\u001b[0;31m   \u001b[0;32mreturn\u001b[0m \u001b[0mread_reply_from_input\u001b[0m\u001b[0;34m(\u001b[0m\u001b[0mrequest_id\u001b[0m\u001b[0;34m,\u001b[0m \u001b[0mtimeout_sec\u001b[0m\u001b[0;34m)\u001b[0m\u001b[0;34m\u001b[0m\u001b[0;34m\u001b[0m\u001b[0m\n\u001b[0m",
            "\u001b[0;32m/usr/local/lib/python3.6/dist-packages/google/colab/_message.py\u001b[0m in \u001b[0;36mread_reply_from_input\u001b[0;34m(message_id, timeout_sec)\u001b[0m\n\u001b[1;32m     99\u001b[0m     \u001b[0mreply\u001b[0m \u001b[0;34m=\u001b[0m \u001b[0m_read_next_input_message\u001b[0m\u001b[0;34m(\u001b[0m\u001b[0;34m)\u001b[0m\u001b[0;34m\u001b[0m\u001b[0;34m\u001b[0m\u001b[0m\n\u001b[1;32m    100\u001b[0m     \u001b[0;32mif\u001b[0m \u001b[0mreply\u001b[0m \u001b[0;34m==\u001b[0m \u001b[0m_NOT_READY\u001b[0m \u001b[0;32mor\u001b[0m \u001b[0;32mnot\u001b[0m \u001b[0misinstance\u001b[0m\u001b[0;34m(\u001b[0m\u001b[0mreply\u001b[0m\u001b[0;34m,\u001b[0m \u001b[0mdict\u001b[0m\u001b[0;34m)\u001b[0m\u001b[0;34m:\u001b[0m\u001b[0;34m\u001b[0m\u001b[0;34m\u001b[0m\u001b[0m\n\u001b[0;32m--> 101\u001b[0;31m       \u001b[0mtime\u001b[0m\u001b[0;34m.\u001b[0m\u001b[0msleep\u001b[0m\u001b[0;34m(\u001b[0m\u001b[0;36m0.025\u001b[0m\u001b[0;34m)\u001b[0m\u001b[0;34m\u001b[0m\u001b[0;34m\u001b[0m\u001b[0m\n\u001b[0m\u001b[1;32m    102\u001b[0m       \u001b[0;32mcontinue\u001b[0m\u001b[0;34m\u001b[0m\u001b[0;34m\u001b[0m\u001b[0m\n\u001b[1;32m    103\u001b[0m     if (reply.get('type') == 'colab_reply' and\n",
            "\u001b[0;31mKeyboardInterrupt\u001b[0m: "
          ]
        }
      ]
    },
    {
      "cell_type": "code",
      "metadata": {
        "id": "DwoD8ycEP3Uc",
        "colab_type": "code",
        "colab": {
          "base_uri": "https://localhost:8080/",
          "height": 357
        },
        "outputId": "0f4e3e86-2b39-4ce0-90cd-3491f18bea4a"
      },
      "source": [
        "!nvidia-smi"
      ],
      "execution_count": 1,
      "outputs": [
        {
          "output_type": "stream",
          "text": [
            "Wed Jul  8 08:29:15 2020       \n",
            "+-----------------------------------------------------------------------------+\n",
            "| NVIDIA-SMI 450.36.06    Driver Version: 418.67       CUDA Version: 10.1     |\n",
            "|-------------------------------+----------------------+----------------------+\n",
            "| GPU  Name        Persistence-M| Bus-Id        Disp.A | Volatile Uncorr. ECC |\n",
            "| Fan  Temp  Perf  Pwr:Usage/Cap|         Memory-Usage | GPU-Util  Compute M. |\n",
            "|                               |                      |               MIG M. |\n",
            "|===============================+======================+======================|\n",
            "|   0  Tesla K80           Off  | 00000000:00:04.0 Off |                    0 |\n",
            "| N/A   36C    P8    29W / 149W |      0MiB / 11441MiB |      0%      Default |\n",
            "|                               |                      |                 ERR! |\n",
            "+-------------------------------+----------------------+----------------------+\n",
            "                                                                               \n",
            "+-----------------------------------------------------------------------------+\n",
            "| Processes:                                                                  |\n",
            "|  GPU   GI   CI        PID   Type   Process name                  GPU Memory |\n",
            "|        ID   ID                                                   Usage      |\n",
            "|=============================================================================|\n",
            "|  No running processes found                                                 |\n",
            "+-----------------------------------------------------------------------------+\n"
          ],
          "name": "stdout"
        }
      ]
    },
    {
      "cell_type": "code",
      "metadata": {
        "id": "qaz6XqOwXP1u",
        "colab_type": "code",
        "colab": {
          "base_uri": "https://localhost:8080/",
          "height": 1000
        },
        "outputId": "2a1dcd68-5d23-4f5c-b162-48e2e503d677"
      },
      "source": [
        "!rm -rf ./monitor.npy.gz\n",
        "!wget https://github.com/SomTambe/ModelNet10-dataset/raw/master/monitor.npy.gz\n",
        "!python ./model-zoo/vision3d/3DGAN_PyTorch/main.py"
      ],
      "execution_count": 9,
      "outputs": [
        {
          "output_type": "stream",
          "text": [
            "--2020-07-08 08:36:58--  https://github.com/SomTambe/ModelNet10-dataset/raw/master/monitor.npy.gz\n",
            "Resolving github.com (github.com)... 140.82.112.4\n",
            "Connecting to github.com (github.com)|140.82.112.4|:443... connected.\n",
            "HTTP request sent, awaiting response... 302 Found\n",
            "Location: https://raw.githubusercontent.com/SomTambe/ModelNet10-dataset/master/monitor.npy.gz [following]\n",
            "--2020-07-08 08:36:59--  https://raw.githubusercontent.com/SomTambe/ModelNet10-dataset/master/monitor.npy.gz\n",
            "Resolving raw.githubusercontent.com (raw.githubusercontent.com)... 151.101.0.133, 151.101.64.133, 151.101.128.133, ...\n",
            "Connecting to raw.githubusercontent.com (raw.githubusercontent.com)|151.101.0.133|:443... connected.\n",
            "HTTP request sent, awaiting response... 200 OK\n",
            "Length: 516322 (504K) [application/octet-stream]\n",
            "Saving to: ‘monitor.npy.gz’\n",
            "\n",
            "\rmonitor.npy.gz        0%[                    ]       0  --.-KB/s               \rmonitor.npy.gz      100%[===================>] 504.22K  --.-KB/s    in 0.06s   \n",
            "\n",
            "2020-07-08 08:36:59 (7.67 MB/s) - ‘monitor.npy.gz’ saved [516322/516322]\n",
            "\n",
            "Starting training loop...\n",
            "[1/10000] D-Loss: 1.4380 G-Loss: 0.8087 dis: 0.4100 gen: 0.4400\n",
            "[1/10000] D-Loss: 1.4347 G-Loss: 0.8118 dis: 0.4500 gen: 0.4000\n",
            "[2/10000] D-Loss: 1.3852 G-Loss: 0.7866 dis: 0.4700 gen: 0.4200\n",
            "[2/10000] D-Loss: 1.3685 G-Loss: 0.7774 dis: 0.5600 gen: 0.2600\n",
            "[3/10000] D-Loss: 1.3483 G-Loss: 0.7718 dis: 0.6200 gen: 0.2800\n",
            "[3/10000] D-Loss: 1.3461 G-Loss: 0.7724 dis: 0.5900 gen: 0.2600\n",
            "[4/10000] D-Loss: 1.3301 G-Loss: 0.7608 dis: 0.6300 gen: 0.2800\n",
            "[4/10000] D-Loss: 1.3272 G-Loss: 0.7608 dis: 0.6400 gen: 0.3200\n",
            "[5/10000] D-Loss: 1.3050 G-Loss: 0.7645 dis: 0.6700 gen: 0.2800\n",
            "[5/10000] D-Loss: 1.3048 G-Loss: 0.7578 dis: 0.7400 gen: 0.2000\n",
            "[6/10000] D-Loss: 1.2931 G-Loss: 0.7574 dis: 0.6900 gen: 0.3600\n",
            "[6/10000] D-Loss: 1.2873 G-Loss: 0.7592 dis: 0.7800 gen: 0.2000\n",
            "[7/10000] D-Loss: 1.2753 G-Loss: 0.7619 dis: 0.8200 gen: 0.2200\n",
            "[7/10000] D-Loss: 1.2749 G-Loss: 0.7652 dis: 0.7800 gen: 0.2200\n",
            "[8/10000] D-Loss: 1.2758 G-Loss: 0.7612 dis: 0.7700 gen: 0.3000\n",
            "[8/10000] D-Loss: 1.2618 G-Loss: 0.7566 dis: 0.8600 gen: 0.1800\n",
            "[9/10000] D-Loss: 1.2702 G-Loss: 0.7630 dis: 0.8200 gen: 0.2800\n",
            "[9/10000] D-Loss: 1.2651 G-Loss: 0.7590 dis: 0.8300 gen: 0.2400\n",
            "[10/10000] D-Loss: 1.2658 G-Loss: 0.7603 dis: 0.8600 gen: 0.2000\n",
            "[10/10000] D-Loss: 1.2587 G-Loss: 0.7519 dis: 0.8500 gen: 0.1800\n",
            "[11/10000] D-Loss: 1.2713 G-Loss: 0.7552 dis: 0.8300 gen: 0.2600\n",
            "[11/10000] D-Loss: 1.2667 G-Loss: 0.7502 dis: 0.8000 gen: 0.2800\n",
            "[12/10000] D-Loss: 1.2714 G-Loss: 0.7516 dis: 0.8300 gen: 0.2400\n",
            "[12/10000] D-Loss: 1.2594 G-Loss: 0.7518 dis: 0.8100 gen: 0.3000\n",
            "[13/10000] D-Loss: 1.2746 G-Loss: 0.7609 dis: 0.7900 gen: 0.3200\n",
            "[13/10000] D-Loss: 1.2607 G-Loss: 0.7506 dis: 0.8100 gen: 0.3000\n",
            "[14/10000] D-Loss: 1.2588 G-Loss: 0.7593 dis: 0.8300 gen: 0.2600\n",
            "[14/10000] D-Loss: 1.2552 G-Loss: 0.7486 dis: 0.8500 gen: 0.2600\n",
            "[15/10000] D-Loss: 1.2625 G-Loss: 0.7508 dis: 0.8000 gen: 0.3200\n",
            "[15/10000] D-Loss: 1.2654 G-Loss: 0.7450 dis: 0.7700 gen: 0.4000\n",
            "[16/10000] D-Loss: 1.2353 G-Loss: 0.7502 dis: 0.9100 gen: 0.1400\n",
            "[16/10000] D-Loss: 1.2478 G-Loss: 0.7433 dis: 0.8600 gen: 0.2600\n",
            "[17/10000] D-Loss: 1.2492 G-Loss: 0.7426 dis: 0.8400 gen: 0.2800\n",
            "[17/10000] D-Loss: 1.2477 G-Loss: 0.7419 dis: 0.8600 gen: 0.2600\n",
            "[18/10000] D-Loss: 1.2494 G-Loss: 0.7452 dis: 0.8700 gen: 0.2200\n",
            "[18/10000] D-Loss: 1.2487 G-Loss: 0.7313 dis: 0.8400 gen: 0.3000\n",
            "[19/10000] D-Loss: 1.2536 G-Loss: 0.7395 dis: 0.8000 gen: 0.3600\n",
            "[19/10000] D-Loss: 1.2622 G-Loss: 0.7388 dis: 0.7900 gen: 0.3800\n",
            "[20/10000] D-Loss: 1.2463 G-Loss: 0.7392 dis: 0.8500 gen: 0.2800\n",
            "[20/10000] D-Loss: 1.2430 G-Loss: 0.7510 dis: 0.8700 gen: 0.2200\n",
            "[21/10000] D-Loss: 1.2475 G-Loss: 0.7403 dis: 0.8000 gen: 0.3800\n",
            "[21/10000] D-Loss: 1.2458 G-Loss: 0.7391 dis: 0.8300 gen: 0.3000\n",
            "[22/10000] D-Loss: 1.2414 G-Loss: 0.7357 dis: 0.8500 gen: 0.3000\n",
            "[22/10000] D-Loss: 1.2672 G-Loss: 0.7184 dis: 0.8100 gen: 0.3400\n",
            "[23/10000] D-Loss: 1.2476 G-Loss: 0.7390 dis: 0.8500 gen: 0.3000\n",
            "[23/10000] D-Loss: 1.2675 G-Loss: 0.7229 dis: 0.7800 gen: 0.4000\n",
            "[24/10000] D-Loss: 1.2432 G-Loss: 0.7258 dis: 0.8500 gen: 0.3000\n",
            "[24/10000] D-Loss: 1.2491 G-Loss: 0.7302 dis: 0.8400 gen: 0.2800\n",
            "[25/10000] D-Loss: 1.2624 G-Loss: 0.7311 dis: 0.8000 gen: 0.4000\n",
            "[25/10000] D-Loss: 1.2536 G-Loss: 0.7342 dis: 0.8200 gen: 0.3200\n",
            "[26/10000] D-Loss: 1.2364 G-Loss: 0.7260 dis: 0.8000 gen: 0.4000\n",
            "[26/10000] D-Loss: 1.2563 G-Loss: 0.7263 dis: 0.8000 gen: 0.3600\n",
            "[27/10000] D-Loss: 1.2338 G-Loss: 0.7343 dis: 0.8600 gen: 0.2800\n",
            "[27/10000] D-Loss: 1.2584 G-Loss: 0.7316 dis: 0.8000 gen: 0.3800\n",
            "[28/10000] D-Loss: 1.2482 G-Loss: 0.7320 dis: 0.8400 gen: 0.3200\n",
            "[28/10000] D-Loss: 1.2522 G-Loss: 0.6992 dis: 0.8100 gen: 0.3600\n",
            "[29/10000] D-Loss: 1.2289 G-Loss: 0.7028 dis: 0.8600 gen: 0.2800\n",
            "[29/10000] D-Loss: 1.2614 G-Loss: 0.7437 dis: 0.7400 gen: 0.5000\n",
            "[30/10000] D-Loss: 1.2562 G-Loss: 0.7269 dis: 0.7900 gen: 0.4200\n",
            "[30/10000] D-Loss: 1.2507 G-Loss: 0.7307 dis: 0.7500 gen: 0.4800\n",
            "[31/10000] D-Loss: 1.2369 G-Loss: 0.7360 dis: 0.8100 gen: 0.3800\n",
            "[31/10000] D-Loss: 1.2416 G-Loss: 0.7342 dis: 0.7800 gen: 0.4400\n",
            "[32/10000] D-Loss: 1.2592 G-Loss: 0.7247 dis: 0.7400 gen: 0.5200\n",
            "[32/10000] D-Loss: 1.2438 G-Loss: 0.7065 dis: 0.7200 gen: 0.5400\n",
            "[33/10000] D-Loss: 1.2429 G-Loss: 0.7314 dis: 0.7900 gen: 0.4200\n",
            "[33/10000] D-Loss: 1.2323 G-Loss: 0.7394 dis: 0.7200 gen: 0.5600\n",
            "[34/10000] D-Loss: 1.2229 G-Loss: 0.7212 dis: 0.7800 gen: 0.4400\n",
            "[34/10000] D-Loss: 1.2015 G-Loss: 0.7199 dis: 0.8200 gen: 0.3600\n",
            "[35/10000] D-Loss: 1.2179 G-Loss: 0.7325 dis: 0.7500 gen: 0.5000\n",
            "[35/10000] D-Loss: 1.2248 G-Loss: 0.7448 dis: 0.7800 gen: 0.4400\n",
            "[36/10000] D-Loss: 1.2412 G-Loss: 0.7330 dis: 0.7100 gen: 0.5800\n",
            "[36/10000] D-Loss: 1.2085 G-Loss: 0.7364 dis: 0.7500 gen: 0.4800\n",
            "[37/10000] D-Loss: 1.2416 G-Loss: 0.7081 dis: 0.7600 gen: 0.4800\n",
            "[37/10000] D-Loss: 1.2023 G-Loss: 0.7434 dis: 0.7900 gen: 0.4200\n",
            "[38/10000] D-Loss: 1.2405 G-Loss: 0.7259 dis: 0.7800 gen: 0.4400\n",
            "[38/10000] D-Loss: 1.1938 G-Loss: 0.7159 dis: 0.7400 gen: 0.5200\n",
            "[39/10000] D-Loss: 1.2028 G-Loss: 0.7265 dis: 0.7700 gen: 0.4600\n",
            "[39/10000] D-Loss: 1.2366 G-Loss: 0.6989 dis: 0.7100 gen: 0.5800\n",
            "[40/10000] D-Loss: 1.1912 G-Loss: 0.7059 dis: 0.8500 gen: 0.3000\n",
            "[40/10000] D-Loss: 1.2425 G-Loss: 0.6851 dis: 0.7000 gen: 0.6000\n",
            "[41/10000] D-Loss: 1.1980 G-Loss: 0.7299 dis: 0.8100 gen: 0.3800\n",
            "[41/10000] D-Loss: 1.2351 G-Loss: 0.6948 dis: 0.6500 gen: 0.7000\n",
            "[42/10000] D-Loss: 1.2454 G-Loss: 0.7119 dis: 0.7700 gen: 0.4600\n",
            "[42/10000] D-Loss: 1.2564 G-Loss: 0.6944 dis: 0.6500 gen: 0.7000\n",
            "[43/10000] D-Loss: 1.2028 G-Loss: 0.7089 dis: 0.8100 gen: 0.3800\n",
            "[43/10000] D-Loss: 1.1931 G-Loss: 0.7184 dis: 0.8200 gen: 0.3600\n",
            "[44/10000] D-Loss: 1.2234 G-Loss: 0.7290 dis: 0.8300 gen: 0.3400\n",
            "[44/10000] D-Loss: 1.2237 G-Loss: 0.7402 dis: 0.7500 gen: 0.5000\n",
            "[45/10000] D-Loss: 1.2439 G-Loss: 0.7324 dis: 0.7700 gen: 0.4600\n",
            "[45/10000] D-Loss: 1.1828 G-Loss: 0.7381 dis: 0.7900 gen: 0.4200\n",
            "[46/10000] D-Loss: 1.2218 G-Loss: 0.7439 dis: 0.8000 gen: 0.4000\n",
            "[46/10000] D-Loss: 1.2071 G-Loss: 0.7838 dis: 0.8100 gen: 0.3800\n",
            "[47/10000] D-Loss: 1.1766 G-Loss: 0.7242 dis: 0.8100 gen: 0.3800\n",
            "[47/10000] D-Loss: 1.2601 G-Loss: 0.7225 dis: 0.6800 gen: 0.6400\n",
            "[48/10000] D-Loss: 1.2082 G-Loss: 0.6951 dis: 0.8300 gen: 0.3400\n",
            "[48/10000] D-Loss: 1.1953 G-Loss: 0.7088 dis: 0.7300 gen: 0.5400\n",
            "[49/10000] D-Loss: 1.2194 G-Loss: 0.7487 dis: 0.8600 gen: 0.2800\n",
            "[49/10000] D-Loss: 1.1614 G-Loss: 0.7458 dis: 0.8100 gen: 0.3800\n",
            "[50/10000] D-Loss: 1.2628 G-Loss: 0.7488 dis: 0.7900 gen: 0.4200\n",
            "[50/10000] D-Loss: 1.1973 G-Loss: 0.7453 dis: 0.7100 gen: 0.5800\n",
            "[51/10000] D-Loss: 1.1745 G-Loss: 0.7368 dis: 0.7900 gen: 0.4200\n",
            "[51/10000] D-Loss: 1.1837 G-Loss: 0.7402 dis: 0.7400 gen: 0.5200\n",
            "Traceback (most recent call last):\n",
            "  File \"./model-zoo/vision3d/3DGAN_PyTorch/main.py\", line 100, in <module>\n",
            "    g_loss.backward()\n",
            "  File \"/usr/local/lib/python3.6/dist-packages/torch/tensor.py\", line 198, in backward\n",
            "    torch.autograd.backward(self, gradient, retain_graph, create_graph)\n",
            "  File \"/usr/local/lib/python3.6/dist-packages/torch/autograd/__init__.py\", line 100, in backward\n",
            "    allow_unreachable=True)  # allow_unreachable flag\n",
            "KeyboardInterrupt\n"
          ],
          "name": "stdout"
        }
      ]
    },
    {
      "cell_type": "code",
      "metadata": {
        "id": "C-Lns7nqQlwh",
        "colab_type": "code",
        "colab": {
          "base_uri": "https://localhost:8080/",
          "height": 102
        },
        "outputId": "2a2041a2-b713-41a5-cb79-5b620abbafb6"
      },
      "source": [
        "!python ./model-zoo/generative_models/AAE_PyTorch/main.py"
      ],
      "execution_count": 15,
      "outputs": [
        {
          "output_type": "stream",
          "text": [
            "[1/100] recon_loss: -50937.7372 dis_loss: 8676.7249 gen_loss: 41895.4381 time elapsed: 76.0045\n",
            "[2/100] recon_loss: -51115.6290 dis_loss: 69077.5547 gen_loss: 0.1581 time elapsed: 75.5732\n",
            "[3/100] recon_loss: -51167.0278 dis_loss: 69077.5547 gen_loss: 0.0268 time elapsed: 75.9726\n",
            "[4/100] recon_loss: -51288.4467 dis_loss: 62773.1679 gen_loss: 8403.1852 time elapsed: 75.8521\n",
            "\n"
          ],
          "name": "stdout"
        }
      ]
    },
    {
      "cell_type": "code",
      "metadata": {
        "id": "qYRsRttwl3Ue",
        "colab_type": "code",
        "colab": {}
      },
      "source": [
        ""
      ],
      "execution_count": null,
      "outputs": []
    }
  ]
}