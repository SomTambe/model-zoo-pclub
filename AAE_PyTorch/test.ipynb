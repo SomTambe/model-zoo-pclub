{
 "cells": [
  {
   "cell_type": "code",
   "execution_count": 8,
   "metadata": {},
   "outputs": [],
   "source": [
    "# from utils import *\n",
    "from models import *\n",
    "import matplotlib.pyplot as plt"
   ]
  },
  {
   "cell_type": "code",
   "execution_count": 2,
   "metadata": {},
   "outputs": [],
   "source": [
    "import torch"
   ]
  },
  {
   "cell_type": "code",
   "execution_count": 3,
   "metadata": {},
   "outputs": [],
   "source": [
    "device=\"cuda:0\" if torch.cuda.is_available() else \"cpu\"\n",
    "dec=decoder().to(device)"
   ]
  },
  {
   "cell_type": "code",
   "execution_count": 4,
   "metadata": {},
   "outputs": [
    {
     "data": {
      "text/plain": [
       "<All keys matched successfully>"
      ]
     },
     "execution_count": 4,
     "metadata": {},
     "output_type": "execute_result"
    }
   ],
   "source": [
    "dec.load_state_dict(torch.load('aae_decoder.pth',map_location=torch.device('cpu')))"
   ]
  },
  {
   "cell_type": "code",
   "execution_count": 5,
   "metadata": {},
   "outputs": [
    {
     "data": {
      "text/plain": [
       "decoder(\n",
       "  (block): Sequential(\n",
       "    (0): Linear(in_features=8, out_features=1000, bias=True)\n",
       "    (1): Dropout(p=0.25, inplace=False)\n",
       "    (2): ReLU(inplace=True)\n",
       "    (3): Linear(in_features=1000, out_features=1000, bias=True)\n",
       "    (4): Dropout(p=0.25, inplace=False)\n",
       "    (5): ReLU(inplace=True)\n",
       "    (6): Linear(in_features=1000, out_features=784, bias=True)\n",
       "  )\n",
       ")"
      ]
     },
     "execution_count": 5,
     "metadata": {},
     "output_type": "execute_result"
    }
   ],
   "source": [
    "dec.eval()"
   ]
  },
  {
   "cell_type": "code",
   "execution_count": 28,
   "metadata": {},
   "outputs": [],
   "source": [
    "def plot_random():\n",
    "    \"\"\"\n",
    "    Plots a random character from the Normal Distribution N[0,5).\n",
    "    No arguments\n",
    "    \"\"\"\n",
    "    # dec.eval()\n",
    "    samp=(torch.randn(1,8)*5).float().to(device)\n",
    "    plt.imshow(dec(samp).reshape(28,28).squeeze().detach().cpu().numpy())\n",
    "    plt.show()\n",
    "    return samp\n",
    "\n",
    "def plot_losses(recloss,dloss,gloss):\n",
    "    \"\"\"\n",
    "    Function which plots graph of all losses.\n",
    "    Args:\n",
    "        recloss (list or iterable type object): Object containing recombination loss for each epoch/iteraction.\n",
    "        dloss (list or iterable type object): Object containing discriminator loss.\n",
    "        gloss (list or iterable type object): Object containing generator loss.\n",
    "    \"\"\"\n",
    "    plt.plot(recloss,label='recombination loss')\n",
    "    plt.plot(dloss,label='discriminator loss')\n",
    "    plt.plot(gloss,label='gen loss')\n",
    "    plt.legend()\n",
    "    return plt.show()\n",
    "\n",
    "def interpolate_characters(n,s1,s2,filename=None,cmap=None):\n",
    "    \"\"\"\n",
    "    Function which returns a plot of n-linearly interpolated figures between s1 and s2.\n",
    "    Args:\n",
    "        n (Integer): Number of plots you want.\n",
    "        s1 (torch.tensor): Image one.\n",
    "        s2 (torch.tensor): Image two.\n",
    "        filename (String): Name of image you want to store the plot as. Defaults to None.\n",
    "        cmap (String): Custom matplotlib cmap. Defaults to 'Greens'.\n",
    "    \"\"\"\n",
    "    f, axarr = plt.subplots(ncols=n)\n",
    "    # dec.eval()\n",
    "    if cmap is not None:\n",
    "        plt.set_cmap(cmap)\n",
    "    else:\n",
    "        plt.set_cmap('Greens')\n",
    "    plt.axis('off')\n",
    "    m=(s2-s1)/n\n",
    "    for i in range(n):\n",
    "        latz=m*(i+1)+s1\n",
    "        image=dec(latz).reshape(28,28).detach().cpu().numpy()\n",
    "        axarr[i].imshow(image)\n",
    "        axarr[i].axis(\"off\")\n",
    "    if filename is not None:\n",
    "        plt.savefig(filename,bbox_inches='tight')\n",
    "    return plt.show()"
   ]
  },
  {
   "cell_type": "code",
   "execution_count": 136,
   "metadata": {},
   "outputs": [
    {
     "data": {
      "image/png": "[encoded data removed]",
      "text/plain": [
       "<Figure size 432x288 with 1 Axes>"
      ]
     },
     "metadata": {
      "needs_background": "light"
     },
     "output_type": "display_data"
    }
   ],
   "source": [
    "s1=plot_random()"
   ]
  },
  {
   "cell_type": "code",
   "execution_count": 190,
   "metadata": {},
   "outputs": [
    {
     "data": {
      "image/png": "[encoded data removed]",
      "text/plain": [
       "<Figure size 432x288 with 1 Axes>"
      ]
     },
     "metadata": {
      "needs_background": "light"
     },
     "output_type": "display_data"
    }
   ],
   "source": [
    "s2=plot_random()"
   ]
  },
  {
   "cell_type": "code",
   "execution_count": 192,
   "metadata": {},
   "outputs": [
    {
     "data": {
      "image/png": "[encoded data removed]",
      "text/plain": [
       "<Figure size 432x288 with 10 Axes>"
      ]
     },
     "metadata": {
      "needs_background": "light"
     },
     "output_type": "display_data"
    }
   ],
   "source": [
    "interpolate_characters(10,s1,s2,\n",
    "                       cmap='binary_r',\n",
    "                       filename='assets/7-7_stroke.png'\n",
    "                      )"
   ]
  },
  {
   "cell_type": "code",
   "execution_count": 74,
   "metadata": {},
   "outputs": [
    {
     "name": "stdout",
     "output_type": "stream",
     "text": [
      "8-8_stroke.png   aae_decoder.pth  models.py\r\n",
      "README.md        \u001b[34massets\u001b[m\u001b[m/          test.ipynb\r\n",
      "\u001b[34m__pycache__\u001b[m\u001b[m/     main.py          utils.py\r\n"
     ]
    }
   ],
   "source": [
    "ls"
   ]
  },
  {
   "cell_type": "code",
   "execution_count": null,
   "metadata": {},
   "outputs": [],
   "source": []
  }
 ],
 "metadata": {
  "kernelspec": {
   "display_name": "Python 3",
   "language": "python",
   "name": "python3"
  },
  "language_info": {
   "codemirror_mode": {
    "name": "ipython",
    "version": 3
   },
   "file_extension": ".py",
   "mimetype": "text/x-python",
   "name": "python",
   "nbconvert_exporter": "python",
   "pygments_lexer": "ipython3",
   "version": "3.7.4"
  }
 },
 "nbformat": 4,
 "nbformat_minor": 2
}
