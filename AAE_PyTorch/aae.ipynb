{
  "nbformat": 4,
  "nbformat_minor": 0,
  "metadata": {
    "colab": {
      "name": "aae.ipynb",
      "provenance": [],
      "private_outputs": true,
      "collapsed_sections": []
    },
    "kernelspec": {
      "name": "python3",
      "display_name": "Python 3"
    },
    "accelerator": "GPU"
  },
  "cells": [
    {
      "cell_type": "code",
      "metadata": {
        "id": "CnSHpAnpB-k3",
        "colab_type": "code",
        "colab": {}
      },
      "source": [
        "import torch\n",
        "import torchvision\n",
        "import numpy as np\n",
        "import matplotlib.pyplot as plt\n",
        "import torch.optim as optim\n",
        "import torch.nn as nn\n",
        "import torch.nn.functional as F\n",
        "import torchvision.transforms as transforms\n",
        "import torch.utils.data as loader\n",
        "import time"
      ],
      "execution_count": null,
      "outputs": []
    },
    {
      "cell_type": "code",
      "metadata": {
        "id": "S6VgnuF9Vu_-",
        "colab_type": "code",
        "colab": {}
      },
      "source": [
        "device=\"cuda:0\" if torch.cuda.is_available() else \"cpu\"\n",
        "print(device)"
      ],
      "execution_count": null,
      "outputs": []
    },
    {
      "cell_type": "code",
      "metadata": {
        "id": "1g0ZesKgCHgW",
        "colab_type": "code",
        "colab": {}
      },
      "source": [
        "transform=transforms.Compose([\n",
        "                              transforms.ToTensor(),\n",
        "                              transforms.Normalize((0.5,),(0.5,)),\n",
        "])\n",
        "dataset=torchvision.datasets.MNIST(root='./',train=True,transform=transform,download=True)\n",
        "data_loader=loader.DataLoader(dataset,batch_size=100,shuffle=True)"
      ],
      "execution_count": null,
      "outputs": []
    },
    {
      "cell_type": "code",
      "metadata": {
        "id": "EjkB7MLuqndY",
        "colab_type": "code",
        "colab": {}
      },
      "source": [
        "# We will use a normal deterministic encoder, which is same as the one used in an ordinary autoencoder\n",
        "class encoder(nn.Module):\n",
        "    def __init__(self):\n",
        "        super().__init__()\n",
        "        self.block=nn.Sequential(\n",
        "            nn.Linear(784,1000),\n",
        "            nn.Dropout(p=.25),\n",
        "            nn.ReLU(True),\n",
        "            nn.Linear(1000,1000),\n",
        "            nn.Dropout(p=.25),\n",
        "            nn.ReLU(True),\n",
        "            nn.Linear(1000,8),\n",
        "        )\n",
        "\n",
        "    def forward(self,x):\n",
        "        bsize=x.size(0)\n",
        "        x=x.view(bsize,-1)\n",
        "        return self.block(x)"
      ],
      "execution_count": null,
      "outputs": []
    },
    {
      "cell_type": "code",
      "metadata": {
        "id": "O81zWGEBSRMD",
        "colab_type": "code",
        "colab": {}
      },
      "source": [
        "class decoder(nn.Module):\n",
        "    def __init__(self):\n",
        "        super().__init__()\n",
        "        self.block=nn.Sequential(\n",
        "            nn.Linear(8,1000),\n",
        "            nn.Dropout(p=.25),\n",
        "            nn.ReLU(True),\n",
        "            nn.Linear(1000,1000),\n",
        "            nn.Dropout(p=.25),\n",
        "            nn.ReLU(True),\n",
        "            nn.Linear(1000,784),\n",
        "        )\n",
        "    \n",
        "    def forward(self,x):\n",
        "        x=self.block(x)\n",
        "        return F.sigmoid(x)"
      ],
      "execution_count": null,
      "outputs": []
    },
    {
      "cell_type": "code",
      "metadata": {
        "id": "1qLBocwYTWYx",
        "colab_type": "code",
        "colab": {}
      },
      "source": [
        "class discriminator(nn.Module):\n",
        "    def __init__(self):\n",
        "        super().__init__()\n",
        "        self.block=nn.Sequential(\n",
        "            nn.Linear(8,1000),\n",
        "            nn.Dropout(p=.2),\n",
        "            nn.ReLU(True),\n",
        "            nn.Linear(1000,1000),\n",
        "            nn.Dropout(p=.2),\n",
        "            nn.ReLU(True),\n",
        "            nn.Linear(1000,1)\n",
        "        )\n",
        "    def forward(self,x):\n",
        "        x=self.block(x)\n",
        "        return F.sigmoid(x)"
      ],
      "execution_count": null,
      "outputs": []
    },
    {
      "cell_type": "code",
      "metadata": {
        "id": "hmTuBOgaViMV",
        "colab_type": "code",
        "colab": {}
      },
      "source": [
        "enc=encoder().to(device)\n",
        "dec=decoder().to(device)\n",
        "D_=discriminator().to(device)"
      ],
      "execution_count": null,
      "outputs": []
    },
    {
      "cell_type": "code",
      "metadata": {
        "id": "MXrxhIHFW7zm",
        "colab_type": "code",
        "colab": {}
      },
      "source": [
        "op_enc=optim.Adam(enc.parameters(),lr=6e-4)\n",
        "op_dec=optim.Adam(dec.parameters(),lr=6e-4)\n",
        "op_gen=optim.Adam(enc.parameters(),lr=8e-4)\n",
        "op_disc=optim.Adam(D_.parameters(),lr=8e-4)"
      ],
      "execution_count": null,
      "outputs": []
    },
    {
      "cell_type": "code",
      "metadata": {
        "id": "06aFaVhGN6qC",
        "colab_type": "code",
        "colab": {}
      },
      "source": [
        "# recon_loss=nn.MSELoss()\n",
        "# gen_loss=nn.BCEWithLogitsLoss()\n",
        "# disc_loss=nn.BCELoss()"
      ],
      "execution_count": null,
      "outputs": []
    },
    {
      "cell_type": "code",
      "metadata": {
        "id": "tvMYsqtw8Vl2",
        "colab_type": "code",
        "colab": {}
      },
      "source": [
        "num_epochs=100"
      ],
      "execution_count": null,
      "outputs": []
    },
    {
      "cell_type": "code",
      "metadata": {
        "id": "kip4iqJmrmni",
        "colab_type": "code",
        "colab": {}
      },
      "source": [
        "import warnings\n",
        "warnings.filterwarnings(\"ignore\")"
      ],
      "execution_count": null,
      "outputs": []
    },
    {
      "cell_type": "code",
      "metadata": {
        "id": "4l04_Qvx8a7e",
        "colab_type": "code",
        "colab": {}
      },
      "source": [
        "recloss=[]\n",
        "dloss=[]\n",
        "gloss=[]\n",
        "TINY=1e-8\n",
        "for epoch in range(num_epochs):\n",
        "    reconst_loss=.0\n",
        "    dis_loss=.0\n",
        "    gent_loss=.0\n",
        "    start=time.time()\n",
        "    for i,data in enumerate(data_loader):\n",
        "        enc.train()\n",
        "        dec.train()\n",
        "        D_.train()\n",
        "\n",
        "        # Updating autoencoder network\n",
        "        op_enc.zero_grad(),op_dec.zero_grad()\n",
        "        data=data[0].to(device) # We only need images\n",
        "        bsize=data.size(0)\n",
        "        z_gen=enc(data)\n",
        "        out=dec(z_gen)\n",
        "        # out=out.view(bsize,1,28,28)\n",
        "        # recon=recon_loss(out,data)\n",
        "        recon=F.binary_cross_entropy(out.view(bsize,-1)+TINY,data.view(bsize,-1)+TINY)\n",
        "        recon.backward()\n",
        "        op_enc.step()\n",
        "        op_dec.step()\n",
        "        reconst_loss+=recon.item()\n",
        "\n",
        "        # Updating discriminator\n",
        "        enc.eval()\n",
        "        op_disc.zero_grad()\n",
        "        z_real=(torch.randn(bsize,8)*5).to(device).requires_grad_(True) # Sample from N(0,5)\n",
        "        z_gen=enc(data)\n",
        "        D_real,D_gen=D_(z_real),D_(z_gen)\n",
        "        # D_loss=disc_loss(D_real,torch.ones((bsize,1)).to(device)) + disc_loss(D_gen,torch.zeros((bsize,1)).to(device))\n",
        "        D_loss=-torch.mean(torch.log(D_real+TINY)+torch.log(1-D_gen+TINY))\n",
        "        D_loss.backward()\n",
        "        op_disc.step()\n",
        "        dis_loss+=D_loss.item()\n",
        "\n",
        "        # Updating generator (encoder)\n",
        "        enc.train()\n",
        "        op_gen.zero_grad()\n",
        "        D_.eval()\n",
        "        z_gen=enc(data)\n",
        "        D_gen=D_(z_gen)\n",
        "        # g_loss=gen_loss(D_gen,torch.ones((bsize,1)).to(device))\n",
        "        g_loss=-torch.mean(torch.log(D_gen+TINY))\n",
        "        g_loss.backward()\n",
        "        op_gen.step()\n",
        "        gent_loss+=g_loss.item()\n",
        "\n",
        "    print(\"[%d/%d] recon_loss: %.4f dis_loss: %.4f gen_loss: %.4f time elapsed: %.4f\"%(epoch+1,num_epochs,reconst_loss,dis_loss,gent_loss,time.time()-start))\n",
        "    recloss.append(reconst_loss)\n",
        "    dloss.append(dis_loss)\n",
        "    gloss.append(gent_loss)"
      ],
      "execution_count": null,
      "outputs": []
    },
    {
      "cell_type": "code",
      "metadata": {
        "id": "nagEpdc0nCF7",
        "colab_type": "code",
        "colab": {}
      },
      "source": [
        "dec.eval()\n",
        "samp=(torch.randn(1,8)*5).float().to(device)\n",
        "plt.imshow(dec(samp).reshape(28,28).squeeze().detach().cpu().numpy())\n",
        "plt.show()"
      ],
      "execution_count": null,
      "outputs": []
    },
    {
      "cell_type": "code",
      "metadata": {
        "id": "HcS3yAitJ5km",
        "colab_type": "code",
        "colab": {}
      },
      "source": [
        "torch.save(dec.state_dict(),'aae_decoder_2.pth')"
      ],
      "execution_count": null,
      "outputs": []
    },
    {
      "cell_type": "code",
      "metadata": {
        "id": "7cvv-B77LrI0",
        "colab_type": "code",
        "colab": {}
      },
      "source": [
        "from google.colab import files\n",
        "try :\n",
        "    files.download(\"aae_decoder_2.pth\")\n",
        "except :\n",
        "    files.download(\"aae_decoder_2.pth\")"
      ],
      "execution_count": null,
      "outputs": []
    },
    {
      "cell_type": "code",
      "metadata": {
        "id": "LjA_lko8NciM",
        "colab_type": "code",
        "colab": {}
      },
      "source": [
        "plt.plot(recloss,label='recombination loss')\n",
        "plt.plot(dloss,label='discriminator loss')\n",
        "plt.plot(gloss,label='gen loss')\n",
        "plt.legend()\n",
        "plt.show()"
      ],
      "execution_count": null,
      "outputs": []
    },
    {
      "cell_type": "code",
      "metadata": {
        "id": "gO9-hEzyp5Wq",
        "colab_type": "code",
        "colab": {}
      },
      "source": [
        "z_real=(torch.randn(bsize,8)*5).to(device)\n",
        "print(z_real.requires_grad_(True))"
      ],
      "execution_count": null,
      "outputs": []
    },
    {
      "cell_type": "code",
      "metadata": {
        "id": "o9E8nGbXHV2z",
        "colab_type": "code",
        "colab": {}
      },
      "source": [
        "z_real.requires_grad=True"
      ],
      "execution_count": null,
      "outputs": []
    },
    {
      "cell_type": "code",
      "metadata": {
        "id": "3mDEsJMuHYmw",
        "colab_type": "code",
        "colab": {}
      },
      "source": [
        "z_real.requires_grad"
      ],
      "execution_count": null,
      "outputs": []
    },
    {
      "cell_type": "code",
      "metadata": {
        "id": "HmzRR3u2Het9",
        "colab_type": "code",
        "colab": {}
      },
      "source": [
        "dec.load_state_dict(torch.load('aae_decoder.pth'))"
      ],
      "execution_count": null,
      "outputs": []
    },
    {
      "cell_type": "code",
      "metadata": {
        "id": "YWQK_y3UiVNq",
        "colab_type": "code",
        "colab": {}
      },
      "source": [
        "dec.eval()\n",
        "plt.set_cmap('Greys_r')\n",
        "samp=(torch.randn(1,8)*5).float().to(device)\n",
        "plt.imshow(dec(samp).reshape(28,28).squeeze().detach().cpu().numpy())\n",
        "plt.show()"
      ],
      "execution_count": null,
      "outputs": []
    },
    {
      "cell_type": "code",
      "metadata": {
        "id": "3frCLFv0iYBs",
        "colab_type": "code",
        "colab": {}
      },
      "source": [
        "samp1=samp"
      ],
      "execution_count": null,
      "outputs": []
    },
    {
      "cell_type": "code",
      "metadata": {
        "id": "vme0VQWUiymc",
        "colab_type": "code",
        "colab": {}
      },
      "source": [
        "samp2=samp"
      ],
      "execution_count": null,
      "outputs": []
    },
    {
      "cell_type": "code",
      "metadata": {
        "id": "tf5jYmKqrEY_",
        "colab_type": "code",
        "colab": {}
      },
      "source": [
        "samp3=samp"
      ],
      "execution_count": null,
      "outputs": []
    },
    {
      "cell_type": "code",
      "metadata": {
        "id": "BN7gzzZZi-jy",
        "colab_type": "code",
        "colab": {}
      },
      "source": [
        "f, axarr = plt.subplots(ncols=10)\n",
        "dec.eval()\n",
        "plt.set_cmap('Greens')\n",
        "plt.axis('off')\n",
        "m=(samp3-samp1)/10\n",
        "for i in range(10):\n",
        "    latz=m*(i+1)+samp1\n",
        "    image=dec(latz).reshape(28,28).detach().cpu().numpy()\n",
        "    axarr[i].imshow(image)\n",
        "    axarr[i].axis(\"off\")\n",
        "plt.savefig('lin_intpolate 4-5 (better).png',bbox_inches='tight')\n",
        "plt.show()"
      ],
      "execution_count": null,
      "outputs": []
    },
    {
      "cell_type": "code",
      "metadata": {
        "id": "0sEXzjTmknxU",
        "colab_type": "code",
        "colab": {}
      },
      "source": [
        ""
      ],
      "execution_count": null,
      "outputs": []
    }
  ]
}